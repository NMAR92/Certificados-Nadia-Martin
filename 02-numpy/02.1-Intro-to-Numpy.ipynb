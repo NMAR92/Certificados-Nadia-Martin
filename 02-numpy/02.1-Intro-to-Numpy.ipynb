{
  "cells": [
    {
      "cell_type": "markdown",
      "id": "bdfbcacc",
      "metadata": {
        "id": "bdfbcacc"
      },
      "source": [
        "<img src=\"https://github.com/4GeeksAcademy/machine-learning-prework/blob/main/02-numpy/assets/numpy_logo.png?raw=1\" alt=\"logo\" width=\"400\"/>\n",
        "\n",
        "## Introduction to numpy\n",
        "\n",
        "NumPy stands for 'Numerical Python'. It is an open-source Python library used to perform various mathematical and scientific tasks. It contains multi-dimensional arrays and matrixes, along with many high-level mathematical functions that operate on them. It contains among other things:\n",
        "\n",
        "→ a powerful N-dimensional array object.\n",
        "\n",
        "→ sophisticated (broadcasting) functions.\n",
        "\n",
        "→ tools for integrating C/C++ and Fortran code.\n",
        "\n",
        "→ useful linear algebra, Fourier transform, and random number capabilities."
      ]
    },
    {
      "cell_type": "markdown",
      "id": "85902746",
      "metadata": {
        "id": "85902746"
      },
      "source": [
        "## Installing NumPy\n",
        "When you want to work with numpy locally, you should run the following commands:\n",
        "\n",
        "You can install NumPy with:\\\n",
        "`pip install numpy`\\\n",
        "or\\\n",
        "`conda install numpy`\n",
        "\n",
        "In our case, 4Geeks have prepared all the environment in order that you can work comfortably."
      ]
    },
    {
      "cell_type": "markdown",
      "id": "58765356",
      "metadata": {
        "id": "58765356"
      },
      "source": [
        "## Why should we use NumPy?\n",
        "\n",
        "Numpy is a library that performs numerical calculations in python. We will use it mainly because it allows us to create, modify matrixes, and do operations on them with ease.\n",
        "\n",
        "NumPy is like Pandas, Matplotlib or Scikit-Learn. It is one of the packages that you cannot miss when you are studying Machine Learning. Mainly because this library provides a matrix data structure that has some benefits over regular Python lists. Some of these benefits are: being more compact, quicker access to reading and writing articles, more convenient and efficient.\n",
        "\n",
        "For example, we will see later in the bootcamp that working with images is dealing with three-dimensional matrixes as large as 3840 x 2160, which means we will have 3×3840×2160 = 24883200 entries!!! 😱😱😱.\n",
        "\n",
        "Working with matrixes of that magnitude is practically impossible to carry out with lists and dictionaries if one wants to have an efficient and fast programming."
      ]
    },
    {
      "cell_type": "markdown",
      "id": "c4e52ee5",
      "metadata": {
        "id": "c4e52ee5"
      },
      "source": [
        "#### Exercise: Import the numpy package under the name `np` (★☆☆)\n",
        "\n",
        "`numpy` is commonly imported as `np` so we highly recommend to put this alias."
      ]
    },
    {
      "cell_type": "code",
      "execution_count": 1,
      "id": "ea3038d9",
      "metadata": {
        "id": "ea3038d9"
      },
      "outputs": [],
      "source": [
        "import numpy as np"
      ]
    },
    {
      "cell_type": "markdown",
      "id": "40631cd6",
      "metadata": {
        "id": "40631cd6"
      },
      "source": [
        "## What is an array and why it is important for Machine Learning?\n",
        "\n",
        "An array is a data structure consisting of a collection of elements (values or variables), each identified by at least one index or key.\n"
      ]
    },
    {
      "cell_type": "markdown",
      "id": "ce969254",
      "metadata": {
        "id": "ce969254"
      },
      "source": [
        "![alt text](assets/1D.png \"1D\")"
      ]
    },
    {
      "cell_type": "markdown",
      "id": "735d02e2",
      "metadata": {
        "id": "735d02e2"
      },
      "source": [
        "An array is known as the central data structure of the Numpy library; it can also be of several dimensions. For example, neural networks sometimes deal with 4D arrays.\n",
        "\n",
        "Later on, we are also going to use another kind of arrays called: Tensors."
      ]
    },
    {
      "cell_type": "markdown",
      "id": "a20ce3a4",
      "metadata": {
        "id": "a20ce3a4"
      },
      "source": [
        "![alt text](./assets/3D.png \"3D\")"
      ]
    },
    {
      "cell_type": "markdown",
      "id": "46950f4f",
      "metadata": {
        "id": "46950f4f"
      },
      "source": [
        "#### Exercise: Print the version and configuration of numpy (★☆☆)\n",
        "\n",
        "You can print the version of any package of Python using `name_of_package.__version__`"
      ]
    },
    {
      "cell_type": "code",
      "execution_count": 3,
      "id": "2a9f5838",
      "metadata": {
        "id": "2a9f5838",
        "outputId": "f074e4b9-8da1-4640-d670-de78329f0201",
        "colab": {
          "base_uri": "https://localhost:8080/"
        }
      },
      "outputs": [
        {
          "output_type": "stream",
          "name": "stdout",
          "text": [
            "1.21.6\n"
          ]
        }
      ],
      "source": [
        "import numpy as np\n",
        "print(np.__version__)"
      ]
    },
    {
      "cell_type": "markdown",
      "id": "e3c20b3d",
      "metadata": {
        "id": "e3c20b3d"
      },
      "source": [
        "#### Exercise: Create a null vector of size 10 (★☆☆)\n",
        "\n",
        "A `null vector` is an array of zeros (`0`), also called `initialization vector`.\n",
        "\n",
        ">Check de function `np.zeros` (https://numpy.org/doc/stable/reference/generated/numpy.zeros.html)"
      ]
    },
    {
      "cell_type": "code",
      "execution_count": 4,
      "id": "8a758bcf",
      "metadata": {
        "id": "8a758bcf",
        "outputId": "39415125-6f8e-4e0e-ce85-451c22d02fea",
        "colab": {
          "base_uri": "https://localhost:8080/"
        }
      },
      "outputs": [
        {
          "output_type": "execute_result",
          "data": {
            "text/plain": [
              "array([0., 0., 0., 0., 0., 0., 0., 0., 0., 0.])"
            ]
          },
          "metadata": {},
          "execution_count": 4
        }
      ],
      "source": [
        "np.zeros(10)"
      ]
    },
    {
      "cell_type": "markdown",
      "id": "6cbe7954",
      "metadata": {
        "id": "6cbe7954"
      },
      "source": [
        "#### Exercise: Create a vector of ones with size 10 (★☆☆)\n",
        "\n",
        ">Check de function `np.ones` (https://numpy.org/doc/stable/reference/generated/numpy.ones.html)"
      ]
    },
    {
      "cell_type": "code",
      "execution_count": 5,
      "id": "86477874",
      "metadata": {
        "id": "86477874",
        "outputId": "19991ecd-2634-4cef-bfb6-c329c6b89940",
        "colab": {
          "base_uri": "https://localhost:8080/"
        }
      },
      "outputs": [
        {
          "output_type": "execute_result",
          "data": {
            "text/plain": [
              "array([1., 1., 1., 1., 1., 1., 1., 1., 1., 1.])"
            ]
          },
          "metadata": {},
          "execution_count": 5
        }
      ],
      "source": [
        "np.ones(10)"
      ]
    },
    {
      "cell_type": "markdown",
      "id": "0a708990",
      "metadata": {
        "id": "0a708990"
      },
      "source": [
        "#### Exercise: Create an 1D array with a specific start value, end value, and number of values (★☆☆)\n",
        "\n",
        ">Check the function `np.linspace` (https://numpy.org/doc/stable/reference/generated/numpy.linspace.html)"
      ]
    },
    {
      "cell_type": "code",
      "execution_count": 6,
      "id": "477e01f4",
      "metadata": {
        "id": "477e01f4",
        "outputId": "b1e388e4-2600-44f8-e543-8f1a99ce52ae",
        "colab": {
          "base_uri": "https://localhost:8080/"
        }
      },
      "outputs": [
        {
          "output_type": "execute_result",
          "data": {
            "text/plain": [
              "array([1.        , 1.11111111, 1.22222222, 1.33333333, 1.44444444,\n",
              "       1.55555556, 1.66666667, 1.77777778, 1.88888889, 2.        ])"
            ]
          },
          "metadata": {},
          "execution_count": 6
        }
      ],
      "source": [
        "np.linspace(1,2,10)"
      ]
    },
    {
      "cell_type": "markdown",
      "id": "782d4c77",
      "metadata": {
        "id": "782d4c77"
      },
      "source": [
        "#### Run: Create a vector (1D array) with random integers from 10 to 49 and dimension 1x35 (★☆☆)\n",
        "\n",
        "When `dimension` is expressed `1x35` it means: One dimension array with 35 items (length=35).\n",
        "\n",
        ">Check the function `np.random` which allows you to create random arrays (https://numpy.org/doc/1.16/reference/routines.random.html)"
      ]
    },
    {
      "cell_type": "code",
      "execution_count": 6,
      "id": "5dbe1a08",
      "metadata": {
        "id": "5dbe1a08",
        "outputId": "52fe9b41-a91a-47b0-bab5-64fd90014c9f",
        "colab": {
          "base_uri": "https://localhost:8080/"
        }
      },
      "outputs": [
        {
          "output_type": "stream",
          "name": "stdout",
          "text": [
            "[0.32593261 0.97284929 0.64570245 0.23663079 0.05717542 0.92742961\n",
            " 0.95197887 0.3088459  0.58459644 0.7185087 ]\n"
          ]
        }
      ],
      "source": [
        "import numpy as np\n",
        "\n",
        "## 10 random numbers between (0, 1)\n",
        "print(np.random.random(10)) "
      ]
    },
    {
      "cell_type": "code",
      "execution_count": 7,
      "id": "a9354456",
      "metadata": {
        "id": "a9354456",
        "outputId": "5f6b2ee9-68cd-4790-f432-b6d0bd60cfcf",
        "colab": {
          "base_uri": "https://localhost:8080/"
        }
      },
      "outputs": [
        {
          "output_type": "stream",
          "name": "stdout",
          "text": [
            "[0.30876416 0.02889416 0.25718217 0.74980412 0.36723459 0.10379209\n",
            " 0.18592685 0.7644282  0.71816941 0.21631917]\n",
            "[-1.16433952  0.58642504  0.3127566  -0.59746835 -1.29211201  0.12164847\n",
            " -0.06365128  0.67398505  0.51734177  1.2511875 ]\n"
          ]
        }
      ],
      "source": [
        "## Two ways to create numbers with normal distribution\n",
        "print(np.random.rand(10)) # 10 random values with distribution N(0,1)\n",
        "print(np.random.normal(loc = 0, scale = 1, size = 10)) # 10 random values with distribution N(0,1)"
      ]
    },
    {
      "cell_type": "code",
      "execution_count": 8,
      "id": "73ed6271",
      "metadata": {
        "id": "73ed6271",
        "outputId": "933c59a0-9882-49a5-b965-503dfbf77f9d",
        "colab": {
          "base_uri": "https://localhost:8080/"
        }
      },
      "outputs": [
        {
          "output_type": "stream",
          "name": "stdout",
          "text": [
            "[ 48.57536712  36.7328386   19.52797367 -20.71749131  10.05158434\n",
            "  20.16880535  61.40634667 -17.64080946  30.09842797 -45.21176635]\n"
          ]
        }
      ],
      "source": [
        "## Did you notice the difference between both functions? \n",
        "print(np.random.normal(loc = -5, scale = 33, size = 10)) # 10 random values with distribution N(-5,33)"
      ]
    },
    {
      "cell_type": "code",
      "execution_count": 9,
      "id": "49ae7a5a",
      "metadata": {
        "id": "49ae7a5a",
        "outputId": "282897c7-8825-42dc-907c-7023f29a7990",
        "colab": {
          "base_uri": "https://localhost:8080/"
        }
      },
      "outputs": [
        {
          "output_type": "stream",
          "name": "stdout",
          "text": [
            "[ 74.00855085 -25.58441613 -22.86485535  55.23232843  22.02121396\n",
            "  98.73809264  38.46852341  85.84836195  93.54754754  67.39296739]\n"
          ]
        }
      ],
      "source": [
        "## 10 random values with uniform distribution. That means, all values have the same probability\n",
        "print(np.random.uniform(-30,100,10)) # All values are between -30 and 100."
      ]
    },
    {
      "cell_type": "code",
      "execution_count": 10,
      "id": "f78e72cb",
      "metadata": {
        "id": "f78e72cb",
        "outputId": "29b57922-a83b-41f7-f000-e19ce377a610",
        "colab": {
          "base_uri": "https://localhost:8080/"
        }
      },
      "outputs": [
        {
          "output_type": "stream",
          "name": "stdout",
          "text": [
            "[15 54 85 82 35 43 70 22 46 69]\n"
          ]
        }
      ],
      "source": [
        "# 10 integers values between 0 and 100.\n",
        "print(np.random.randint(0, 100, 10))"
      ]
    },
    {
      "cell_type": "code",
      "execution_count": 11,
      "id": "db278431",
      "metadata": {
        "id": "db278431",
        "outputId": "af3f90fd-98d6-40fa-8fdc-13706f37e4da",
        "colab": {
          "base_uri": "https://localhost:8080/"
        }
      },
      "outputs": [
        {
          "output_type": "stream",
          "name": "stdout",
          "text": [
            "[ 6.88210649  3.63262133 10.41200595  1.86511401  1.17421483  3.73209825\n",
            "  4.86487466  1.6489907   1.90529715  3.98003854]\n"
          ]
        }
      ],
      "source": [
        "# 10 random values with Chi distribution with 5 degrees of freedom\n",
        "print(np.random.chisquare(5,10))"
      ]
    },
    {
      "cell_type": "markdown",
      "id": "1b7841da",
      "metadata": {
        "id": "1b7841da"
      },
      "source": [
        "The above examples are the most common distribution and random values you will learn throughout the bootcamp. Now, let's deal with those arrays."
      ]
    },
    {
      "cell_type": "markdown",
      "id": "48d48f01",
      "metadata": {
        "id": "48d48f01"
      },
      "source": [
        "#### Exercise: Reverse one of the last vector we created before (first element becomes last) (★☆☆)\n",
        "Try with `[::-1]`"
      ]
    },
    {
      "cell_type": "code",
      "execution_count": 7,
      "id": "3ed233e7",
      "metadata": {
        "id": "3ed233e7",
        "outputId": "2c6c16f3-7f9d-4c98-b4b7-45d1b365e7e8",
        "colab": {
          "base_uri": "https://localhost:8080/"
        }
      },
      "outputs": [
        {
          "output_type": "stream",
          "name": "stdout",
          "text": [
            "[11.80549298  8.15830332  1.8000691   3.51646003  3.19366085  6.34920509\n",
            "  7.1611756   4.59215659  6.79036184  4.15006436]\n",
            "[ 4.15006436  6.79036184  4.59215659  7.1611756   6.34920509  3.19366085\n",
            "  3.51646003  1.8000691   8.15830332 11.80549298]\n"
          ]
        }
      ],
      "source": [
        "a=np.random.chisquare(5,10)\n",
        "print(a)\n",
        "reversed_a = a[::-1]\n",
        "print(reversed_a)\n"
      ]
    },
    {
      "cell_type": "markdown",
      "id": "da64551a",
      "metadata": {
        "id": "da64551a"
      },
      "source": [
        "#### Exercise: Find indexes of non-zero elements from [1,2,0,0,4,0] (★☆☆)\n",
        "\n",
        ">Check the function `where`(https://numpy.org/devdocs/reference/generated/numpy.where.html)"
      ]
    },
    {
      "cell_type": "code",
      "execution_count": 8,
      "id": "327f7adb",
      "metadata": {
        "id": "327f7adb",
        "outputId": "e5abd165-6d46-4be1-c702-79638eef9911",
        "colab": {
          "base_uri": "https://localhost:8080/"
        }
      },
      "outputs": [
        {
          "output_type": "execute_result",
          "data": {
            "text/plain": [
              "(array([0, 1, 4]),)"
            ]
          },
          "metadata": {},
          "execution_count": 8
        }
      ],
      "source": [
        "a=[1,2,0,0,4,0]\n",
        "np.nonzero(a)"
      ]
    },
    {
      "cell_type": "markdown",
      "id": "13c5928c",
      "metadata": {
        "id": "13c5928c"
      },
      "source": [
        "#### Exercise: Create a 10x10 array with random values and find the minimum and maximum values (★☆☆)\n",
        "\n",
        ">Check the function `min` (https://numpy.org/devdocs/reference/generated/numpy.where.html) and `max` (https://numpy.org/devdocs/reference/generated/numpy.max.html)"
      ]
    },
    {
      "cell_type": "code",
      "execution_count": null,
      "id": "911c9b93",
      "metadata": {
        "id": "911c9b93"
      },
      "outputs": [],
      "source": [
        ""
      ]
    },
    {
      "cell_type": "markdown",
      "id": "3fa2e461",
      "metadata": {
        "id": "3fa2e461"
      },
      "source": [
        "#### Exercise: Create a random vector of size 30 and find the mean value (★☆☆)"
      ]
    },
    {
      "cell_type": "code",
      "execution_count": null,
      "id": "323eb38a",
      "metadata": {
        "id": "323eb38a"
      },
      "outputs": [],
      "source": [
        ""
      ]
    },
    {
      "cell_type": "markdown",
      "id": "961f074f",
      "metadata": {
        "id": "961f074f"
      },
      "source": [
        "#### Exercise: Define a function with your date of birth (yyyy/mm/dd) as imput, that returns a random array with the following dimensions: (★★☆)\n",
        "\n",
        "$$yyyy-1900 \\times |mm - dd|$$"
      ]
    },
    {
      "cell_type": "code",
      "execution_count": null,
      "id": "d3f49255",
      "metadata": {
        "id": "d3f49255"
      },
      "outputs": [],
      "source": [
        ""
      ]
    },
    {
      "cell_type": "markdown",
      "id": "ff8dbb92",
      "metadata": {
        "id": "ff8dbb92"
      },
      "source": [
        "## What is the difference between Python List and a Numpy Array?\n",
        "\n",
        "- Python list can contain elements with different data types, while Numpy Array‘s elements are always homogeneous (same data types).\n",
        "\n",
        "- Numpy arrays are faster and more compact than Python lists.\n",
        "\n",
        "## Why Numpy Arrays are faster than Lists?\n",
        "\n",
        "- Numpy Arrays use fixed memory to store data and less memory than Python lists.\n",
        "\n",
        "- Contiguous memory allocation in Numpy Arrays."
      ]
    },
    {
      "cell_type": "markdown",
      "id": "e3a7ba7f",
      "metadata": {
        "id": "e3a7ba7f"
      },
      "source": [
        "#### Exercise: Convert the list `my_list = [1, 2, 3]` to numpy array (★☆☆)"
      ]
    },
    {
      "cell_type": "code",
      "execution_count": 8,
      "id": "01d8e257",
      "metadata": {
        "id": "01d8e257"
      },
      "outputs": [],
      "source": [
        ""
      ]
    },
    {
      "cell_type": "markdown",
      "id": "6d17ab5d",
      "metadata": {
        "id": "6d17ab5d"
      },
      "source": [
        "#### Exercise: Convert the tuple `my_list = (1, 2, 3)` to numpy array (★☆☆)"
      ]
    },
    {
      "cell_type": "code",
      "execution_count": 8,
      "id": "841373cd",
      "metadata": {
        "id": "841373cd"
      },
      "outputs": [],
      "source": [
        ""
      ]
    },
    {
      "cell_type": "markdown",
      "id": "8837119b",
      "metadata": {
        "id": "8837119b"
      },
      "source": [
        "#### Exercise: Convert the list of tuples `my_list = [(1,2,3), (4,5)]` to numpy array (★☆☆)"
      ]
    },
    {
      "cell_type": "code",
      "execution_count": 8,
      "id": "2c0d16f1",
      "metadata": {
        "id": "2c0d16f1"
      },
      "outputs": [],
      "source": [
        ""
      ]
    },
    {
      "cell_type": "markdown",
      "id": "ec788c9f",
      "metadata": {
        "id": "ec788c9f"
      },
      "source": [
        "#### Exercise: Resize a random array of dimensions 5x12 into 12x5 (★☆☆)\n",
        "\n",
        ">Check `reshape` from `numpy` (https://numpy.org/doc/stable/reference/generated/numpy.reshape.html)"
      ]
    },
    {
      "cell_type": "code",
      "execution_count": 8,
      "id": "0a4f919f",
      "metadata": {
        "id": "0a4f919f"
      },
      "outputs": [],
      "source": [
        ""
      ]
    },
    {
      "cell_type": "markdown",
      "id": "391791e0",
      "metadata": {
        "id": "391791e0"
      },
      "source": [
        "#### Exercise: Create a function that normalize a 5x5 random matrix (★☆☆)\n",
        "\n",
        ">Remember from probability (https://en.wikipedia.org/wiki/Normalization_(statistics)) that :\n",
        "$$ x_{norm} = \\frac{x - \\bar{x}}{\\sigma}$$\n"
      ]
    },
    {
      "cell_type": "code",
      "execution_count": 8,
      "id": "f6533d39",
      "metadata": {
        "id": "f6533d39"
      },
      "outputs": [],
      "source": [
        ""
      ]
    },
    {
      "cell_type": "markdown",
      "id": "d2d143f1",
      "metadata": {
        "id": "d2d143f1"
      },
      "source": [
        "## Stacking numpy arrays\n",
        "\n",
        "Stacking is used to join a sequence of same dimension arrays along a new axis.\n",
        "\n",
        "`numpy.stack(arrays,axis)` : It returns a stacked array of the input arrays which has one more dimension than the input arrays.\n",
        "\n",
        "### You have two ways to do it:\n",
        "\n",
        "\n",
        "![alt text](./assets/stack.jpeg \"stack\")\n",
        "\n",
        "\n",
        "### or\n",
        "\n",
        "\n",
        "![alt text](./assets/stack2.jpeg \"stack\")\n",
        "\n",
        "\n"
      ]
    },
    {
      "cell_type": "markdown",
      "id": "1e74d39e",
      "metadata": {
        "id": "1e74d39e"
      },
      "source": [
        "#### Exercise: Generate two random arrays with integers and apply the stacking using `stack` (★★☆)"
      ]
    },
    {
      "cell_type": "code",
      "execution_count": 8,
      "id": "3f639d33",
      "metadata": {
        "id": "3f639d33"
      },
      "outputs": [],
      "source": [
        ""
      ]
    },
    {
      "cell_type": "markdown",
      "id": "78250c14",
      "metadata": {
        "id": "78250c14"
      },
      "source": [
        "#### Exercise: Generate two random arrays with integers and apply the stacking using `hstack` and `vstack` (★★☆)"
      ]
    },
    {
      "cell_type": "code",
      "execution_count": 8,
      "id": "9fe729cb",
      "metadata": {
        "id": "9fe729cb"
      },
      "outputs": [],
      "source": [
        ""
      ]
    },
    {
      "cell_type": "markdown",
      "id": "51898680",
      "metadata": {
        "id": "51898680"
      },
      "source": [
        "## Basic maths in numpy\n",
        "\n",
        "You can make typical math operations like:\n",
        "\n",
        "- Addition,Subtraction,Multiplication and Division between two arrays using numpy.\n",
        "- Operation on arrays using sum() & cumsum() function.\n",
        "- Minimum and Maximum value from an array.\n",
        "- Exponent/Power , Square Root and Cube Root functions.\n",
        "\n",
        "or even apply common trigonometric functions:\n",
        "\n",
        "- `numpy.sin()`:  Sine (x) Function\n",
        "- `numpy.cos()`: Cosine(x) Function\n",
        "- `numpy.tan()`: Tangent(x) Function\n",
        "- `numpy.sinh()`: Hyperbolic Sine (x) Function\n",
        "- `numpy.cosh()`: Hyperbolic Cosine(x) Function\n",
        "- `numpy.tanh()`: Hyperbolic Tangent(x) Function\n",
        "- `numpy.arcsin()`: Inverse Sine(x) Function\n",
        "- `numpy.arccos()`: Inverse Cosine(x) Function\n",
        "- `numpy.arctan()`: Inverse Tangent(X) Function\n",
        "- `numpy.pi`: Pi value π\n",
        "- `numpy.hypot(w,h)`: For calculating Hypotenuse $c = \\sqrt{(w^2 + h^2)}$\n",
        "- `numpy.rad2deg()`: Radians to degrees\n",
        "- `numpy.deg2rad()`: Degrees to radians"
      ]
    },
    {
      "cell_type": "markdown",
      "id": "89e78048",
      "metadata": {
        "id": "89e78048"
      },
      "source": [
        "#### Exercise: Generate two random 8 - dimensional vectors and apply the most common operation between vectors:  addition, substraction, multiplication, division(★☆☆)\n",
        "\n",
        ">Check the math functions here: https://numpy.org/doc/stable/reference/routines.math.html"
      ]
    },
    {
      "cell_type": "code",
      "execution_count": null,
      "id": "b62e9d1c",
      "metadata": {
        "id": "b62e9d1c"
      },
      "outputs": [],
      "source": [
        ""
      ]
    },
    {
      "cell_type": "markdown",
      "id": "ebd10810",
      "metadata": {
        "id": "ebd10810"
      },
      "source": [
        "#### Exercise: Generate two random matrices with dimensions between 5 and 10. For example, try 5x7 vs 8x9. Were you able to do the matrix multiplication? why? (★★☆) "
      ]
    },
    {
      "cell_type": "code",
      "execution_count": null,
      "id": "6ada209f",
      "metadata": {
        "id": "6ada209f"
      },
      "outputs": [],
      "source": [
        ""
      ]
    },
    {
      "cell_type": "markdown",
      "id": "c0e940f8",
      "metadata": {
        "id": "c0e940f8"
      },
      "source": [
        "#### Exercise: Given 2 numpy arrays as matrices, output the result of multiplying the 2 matrices (as a numpy array) Were you able to do the matrix multiplication? (★★☆) \n",
        "\n",
        "$$ a = \\left(\\begin{matrix}\n",
        "0 & 1 & 2\\\\ \n",
        "3 & 4 & 5\\\\ \n",
        "6 & 7 & 8\n",
        "\\end{matrix}\\right)$$\n",
        "\n",
        "$$ b = \\left(\\begin{matrix}\n",
        "2 & 3 & 4\\\\ \n",
        "5 & 6 & 7\\\\ \n",
        "8 & 9 & 10\n",
        "\\end{matrix}\\right)$$\n",
        "\n",
        "\n"
      ]
    },
    {
      "cell_type": "code",
      "execution_count": null,
      "id": "820dc7a5",
      "metadata": {
        "id": "820dc7a5"
      },
      "outputs": [],
      "source": [
        ""
      ]
    },
    {
      "cell_type": "markdown",
      "id": "22713c3f",
      "metadata": {
        "id": "22713c3f"
      },
      "source": [
        "#### Exercise: Multiply a 5x3 matrix by a 3x2 matrix (real matrix product) (★★☆)"
      ]
    },
    {
      "cell_type": "code",
      "execution_count": null,
      "id": "a3e05c29",
      "metadata": {
        "id": "a3e05c29"
      },
      "outputs": [],
      "source": [
        ""
      ]
    },
    {
      "cell_type": "markdown",
      "id": "4815930e",
      "metadata": {
        "id": "4815930e"
      },
      "source": [
        "## Data types\n",
        "\n",
        "Do you think the following preposition is true?\n",
        "\n",
        "`8==8`\n",
        "\n",
        "Surely you will definetely say yes, which is true mathematically, but computationally it is not always the same, at least in terms of memory. For example, run the following cell:"
      ]
    },
    {
      "cell_type": "code",
      "execution_count": 9,
      "id": "cd81c3c6",
      "metadata": {
        "id": "cd81c3c6",
        "outputId": "1f1b70b4-662e-4692-8677-5faff6564b9e",
        "colab": {
          "base_uri": "https://localhost:8080/"
        }
      },
      "outputs": [
        {
          "output_type": "stream",
          "name": "stdout",
          "text": [
            "int64: 96\n",
            "int8: 89\n",
            "float32: 92\n"
          ]
        }
      ],
      "source": [
        "import sys\n",
        "\n",
        "# int64\n",
        "x = np.array(123)\n",
        "print(\"int64: \" + str(sys.getsizeof(x)))\n",
        "\n",
        "# int8\n",
        "x = np.array(123,dtype=np.int8)\n",
        "print(\"int8: \" + str(sys.getsizeof(x)))\n",
        "\n",
        "# float32\n",
        "x = np.array(123,dtype=np.float32)\n",
        "print(\"float32: \" + str(sys.getsizeof(x)))"
      ]
    },
    {
      "cell_type": "markdown",
      "id": "8e34f294",
      "metadata": {
        "id": "8e34f294"
      },
      "source": [
        "#### It turns out that there are many computational representation of the same number and you can create arrays with different Data Types (dtypes) depending on what you need:\n",
        "\n",
        "- Boolean : `np.bool_`\n",
        "- Char : `np.byte`\n",
        "- Short : `np.short`\n",
        "- Integer : `np.short`\n",
        "- Long : `np.int_`\n",
        "- Float : `np.single`&np.float32`\n",
        "- Double :`np.double`&`np.float64`\n",
        "- `np.int8`: integer (-128 to 127)\n",
        "- `np.int16`:integer( -32768 to 32767)\n",
        "- `np.int32`: integer(-2147483648 to 2147483647)\n",
        "- `np.int64`:integer( -9223372036854775808 to 9223372036854775807)\n",
        "\n",
        "\n",
        "Sometimes, you will need to load, create or export arrays from different data types.\n"
      ]
    },
    {
      "cell_type": "code",
      "execution_count": 9,
      "id": "890bde78",
      "metadata": {
        "id": "890bde78"
      },
      "outputs": [],
      "source": [
        ""
      ]
    },
    {
      "cell_type": "markdown",
      "id": "f1ae2c2d",
      "metadata": {
        "id": "f1ae2c2d"
      },
      "source": [
        "## Harder exercises\n",
        "\n",
        "The next exercises are related with real situations you could face while you are working in data science and machine learning. Also, we will be frequently talking about matrices and bidimensional arrays."
      ]
    },
    {
      "cell_type": "markdown",
      "id": "759c9c8d",
      "metadata": {
        "id": "759c9c8d"
      },
      "source": [
        "#### Exercise: Subtract the mean of each row of a matrix (★★☆)"
      ]
    },
    {
      "cell_type": "code",
      "execution_count": 9,
      "id": "6801c73d",
      "metadata": {
        "id": "6801c73d"
      },
      "outputs": [],
      "source": [
        ""
      ]
    },
    {
      "cell_type": "markdown",
      "id": "129c342d",
      "metadata": {
        "id": "129c342d"
      },
      "source": [
        "#### Exercise: How to get the dates of yesterday, today and tomorrow? (★★☆)\n",
        "\n",
        ">Check `np.datetime64`, `np.timedelta64` in numpy (https://numpy.org/doc/stable/reference/arrays.datetime.html)"
      ]
    },
    {
      "cell_type": "code",
      "execution_count": 9,
      "id": "8ba1badb",
      "metadata": {
        "id": "8ba1badb"
      },
      "outputs": [],
      "source": [
        ""
      ]
    },
    {
      "cell_type": "markdown",
      "id": "42f8b2f9",
      "metadata": {
        "id": "42f8b2f9"
      },
      "source": [
        "#### Exercise: How to get all the dates corresponding to the month of December 2022? (★★☆)\n",
        "Combine `arange`with `datetime`\n"
      ]
    },
    {
      "cell_type": "code",
      "execution_count": 9,
      "id": "eb8ebe45",
      "metadata": {
        "id": "eb8ebe45"
      },
      "outputs": [],
      "source": [
        ""
      ]
    },
    {
      "cell_type": "markdown",
      "id": "486df8ea",
      "metadata": {
        "id": "486df8ea"
      },
      "source": [
        "#### Exercise: Extract the integer part of a random array of positive numbers using 2 different methods (★★☆)"
      ]
    },
    {
      "cell_type": "code",
      "execution_count": 9,
      "id": "34b4fa08",
      "metadata": {
        "id": "34b4fa08"
      },
      "outputs": [],
      "source": [
        ""
      ]
    },
    {
      "cell_type": "markdown",
      "id": "649e89f9",
      "metadata": {
        "id": "649e89f9"
      },
      "source": [
        "#### Exercise: Create a 5x5 matrix with row values ranging from 0 to 4 (★★☆)"
      ]
    },
    {
      "cell_type": "code",
      "execution_count": 9,
      "id": "663cc611",
      "metadata": {
        "id": "663cc611"
      },
      "outputs": [],
      "source": [
        ""
      ]
    },
    {
      "cell_type": "markdown",
      "id": "3421e17f",
      "metadata": {
        "id": "3421e17f"
      },
      "source": [
        "#### Exercise: Consider a generator function that generates 10 integers and use it to build an array (★★☆)"
      ]
    },
    {
      "cell_type": "code",
      "execution_count": 9,
      "id": "7336b8e4",
      "metadata": {
        "id": "7336b8e4"
      },
      "outputs": [],
      "source": [
        ""
      ]
    },
    {
      "cell_type": "markdown",
      "id": "483dd554",
      "metadata": {
        "id": "483dd554"
      },
      "source": [
        "#### Exercise: Create a vector of size 10 with values ranging from 0 to 1, both excluded (★★☆)"
      ]
    },
    {
      "cell_type": "code",
      "execution_count": 9,
      "id": "c89b93e7",
      "metadata": {
        "id": "c89b93e7"
      },
      "outputs": [],
      "source": [
        ""
      ]
    },
    {
      "cell_type": "markdown",
      "id": "2d07be1c",
      "metadata": {
        "id": "2d07be1c"
      },
      "source": [
        "#### Exercise: Create a random vector of size 10 and sort it (★★☆)"
      ]
    },
    {
      "cell_type": "code",
      "execution_count": 9,
      "id": "4f7cb3ad",
      "metadata": {
        "id": "4f7cb3ad"
      },
      "outputs": [],
      "source": [
        ""
      ]
    },
    {
      "cell_type": "markdown",
      "id": "fe043549",
      "metadata": {
        "id": "fe043549"
      },
      "source": [
        "#### Exercise: Consider two random arrays A and B, check if they are equal (★★☆)"
      ]
    },
    {
      "cell_type": "code",
      "execution_count": 9,
      "id": "3326a686",
      "metadata": {
        "id": "3326a686"
      },
      "outputs": [],
      "source": [
        ""
      ]
    },
    {
      "cell_type": "markdown",
      "id": "2002cb03",
      "metadata": {
        "id": "2002cb03"
      },
      "source": [
        "#### Exercise: Consider a random 10x2 matrix representing cartesian coordinates, convert them to polar coordinates (★★★)\n",
        ">Suggestion: check how to calculate the \"square of a matrix\""
      ]
    },
    {
      "cell_type": "code",
      "execution_count": 9,
      "id": "58be72bc",
      "metadata": {
        "id": "58be72bc"
      },
      "outputs": [],
      "source": [
        ""
      ]
    },
    {
      "cell_type": "markdown",
      "id": "b7109c9f",
      "metadata": {
        "id": "b7109c9f"
      },
      "source": [
        "#### Exercise: Create random vector of size 10 and replace the maximum value by 0 (★★☆)"
      ]
    },
    {
      "cell_type": "code",
      "execution_count": 9,
      "id": "f79e79a7",
      "metadata": {
        "id": "f79e79a7"
      },
      "outputs": [],
      "source": [
        ""
      ]
    },
    {
      "cell_type": "markdown",
      "id": "fb24674c",
      "metadata": {
        "id": "fb24674c"
      },
      "source": [
        "#### Exercise: How to print all the values of an array? (★★☆)"
      ]
    },
    {
      "cell_type": "code",
      "execution_count": 9,
      "id": "c81f1456",
      "metadata": {
        "id": "c81f1456"
      },
      "outputs": [],
      "source": [
        ""
      ]
    },
    {
      "cell_type": "markdown",
      "id": "48413134",
      "metadata": {
        "id": "48413134"
      },
      "source": [
        "#### Exercise: How to convert a float (32 bits) array into an integer (32 bits) in place?\n",
        ">Check: https://stackoverflow.com/a/4396247/5989906"
      ]
    },
    {
      "cell_type": "code",
      "execution_count": 9,
      "id": "5db64b6d",
      "metadata": {
        "id": "5db64b6d"
      },
      "outputs": [],
      "source": [
        ""
      ]
    },
    {
      "cell_type": "markdown",
      "id": "215b6acc",
      "metadata": {
        "id": "215b6acc"
      },
      "source": [
        "#### Exercise: Subtract the mean of each row of a matrix (★★☆)"
      ]
    },
    {
      "cell_type": "code",
      "execution_count": 9,
      "id": "dd1adef4",
      "metadata": {
        "id": "dd1adef4"
      },
      "outputs": [],
      "source": [
        ""
      ]
    },
    {
      "cell_type": "markdown",
      "id": "c0cf37e0",
      "metadata": {
        "id": "c0cf37e0"
      },
      "source": [
        "#### Exercise: How to sort an array by the nth column? (★★☆)"
      ]
    },
    {
      "cell_type": "code",
      "execution_count": 9,
      "id": "9336ca5f",
      "metadata": {
        "id": "9336ca5f"
      },
      "outputs": [],
      "source": [
        ""
      ]
    },
    {
      "cell_type": "markdown",
      "id": "c17fb213",
      "metadata": {
        "id": "c17fb213"
      },
      "source": [
        "#### Exercise: Find the position of the minimum of a 2D matrix (★★☆)"
      ]
    },
    {
      "cell_type": "code",
      "execution_count": 9,
      "id": "7fdda78d",
      "metadata": {
        "id": "7fdda78d"
      },
      "outputs": [],
      "source": [
        ""
      ]
    },
    {
      "cell_type": "markdown",
      "id": "f4427f7f",
      "metadata": {
        "id": "f4427f7f"
      },
      "source": [
        "#### Exercise: Read an image using openCV, check its dimensions, normalize the numbers and show the image (★★★)\n",
        "\n",
        ">Check: https://www.geeksforgeeks.org/python-opencv-cv2-imread-method/"
      ]
    },
    {
      "cell_type": "code",
      "execution_count": 9,
      "id": "fe253212",
      "metadata": {
        "id": "fe253212"
      },
      "outputs": [],
      "source": [
        ""
      ]
    },
    {
      "cell_type": "markdown",
      "id": "33c986d9",
      "metadata": {
        "id": "33c986d9"
      },
      "source": [
        "#### Exercise: Considering a four dimensions array, how to get the sum over the last two axis at once? (★★★)"
      ]
    },
    {
      "cell_type": "code",
      "execution_count": 9,
      "id": "a99a50e2",
      "metadata": {
        "id": "a99a50e2"
      },
      "outputs": [],
      "source": [
        ""
      ]
    },
    {
      "cell_type": "markdown",
      "id": "928a1a15",
      "metadata": {
        "id": "928a1a15"
      },
      "source": [
        "#### Exercise: How to get the diagonal of a dot product? (★★★)"
      ]
    },
    {
      "cell_type": "code",
      "execution_count": 9,
      "id": "ef2c9ddd",
      "metadata": {
        "id": "ef2c9ddd"
      },
      "outputs": [],
      "source": [
        ""
      ]
    },
    {
      "cell_type": "markdown",
      "id": "f62551d8",
      "metadata": {
        "id": "f62551d8"
      },
      "source": [
        "#### Exercise: Consider an array of dimension (5,5,3), how to mulitply it by an array with dimensions (5,5)? (★★★)"
      ]
    },
    {
      "cell_type": "code",
      "execution_count": 9,
      "id": "9ab241b7",
      "metadata": {
        "id": "9ab241b7"
      },
      "outputs": [],
      "source": [
        ""
      ]
    },
    {
      "cell_type": "markdown",
      "id": "6896e326",
      "metadata": {
        "id": "6896e326"
      },
      "source": [
        "#### Exercise: How to swap two rows of an array? (★★★)"
      ]
    },
    {
      "cell_type": "code",
      "execution_count": 9,
      "id": "9e8fcba9",
      "metadata": {
        "id": "9e8fcba9"
      },
      "outputs": [],
      "source": [
        ""
      ]
    },
    {
      "cell_type": "markdown",
      "id": "8e83df46",
      "metadata": {
        "id": "8e83df46"
      },
      "source": [
        "#### Exercise: Read an image using openCV and tranpose it. What did you get exactly? Was the image rotated? Moved? Reflected with respect to an axis? (★★★)"
      ]
    },
    {
      "cell_type": "code",
      "execution_count": 9,
      "id": "f73127b7",
      "metadata": {
        "id": "f73127b7"
      },
      "outputs": [],
      "source": [
        ""
      ]
    },
    {
      "cell_type": "markdown",
      "id": "781fa236",
      "metadata": {
        "id": "781fa236"
      },
      "source": [
        "#### Exercise: Consider an array Z = [1,2,3,4,5,6,7,8,9,10,11,12,13,14], how to generate an array R = [[1,2,3,4], [2,3,4,5], [3,4,5,6], ..., [11,12,13,14]]? (★★★)"
      ]
    },
    {
      "cell_type": "code",
      "execution_count": 9,
      "id": "8e84d3c2",
      "metadata": {
        "id": "8e84d3c2"
      },
      "outputs": [],
      "source": [
        ""
      ]
    },
    {
      "cell_type": "markdown",
      "id": "7d8dc135",
      "metadata": {
        "id": "7d8dc135"
      },
      "source": [
        "#### Exercise: How to find the most frequent value in an array? (★★★)"
      ]
    },
    {
      "cell_type": "code",
      "execution_count": 9,
      "id": "3978a7a2",
      "metadata": {
        "id": "3978a7a2"
      },
      "outputs": [],
      "source": [
        ""
      ]
    },
    {
      "cell_type": "markdown",
      "id": "4c70397b",
      "metadata": {
        "id": "4c70397b"
      },
      "source": [
        "#### Exercise: How to get the n largest values of an array (★★★)"
      ]
    },
    {
      "cell_type": "code",
      "execution_count": 9,
      "id": "16371718",
      "metadata": {
        "id": "16371718"
      },
      "outputs": [],
      "source": [
        ""
      ]
    },
    {
      "cell_type": "markdown",
      "id": "d94352b6",
      "metadata": {
        "id": "d94352b6"
      },
      "source": [
        "#### Exercise: Consider a large vector Z, compute Z to the power of 3 using 3 different methods (★★★)"
      ]
    },
    {
      "cell_type": "code",
      "execution_count": 9,
      "id": "301ba8a8",
      "metadata": {
        "id": "301ba8a8"
      },
      "outputs": [],
      "source": [
        ""
      ]
    },
    {
      "cell_type": "markdown",
      "id": "2784c996",
      "metadata": {
        "id": "2784c996"
      },
      "source": [
        "#### Exercise: Given a two dimensional array, how to extract unique rows? (★★★)"
      ]
    },
    {
      "cell_type": "code",
      "execution_count": 9,
      "id": "f030595f",
      "metadata": {
        "id": "f030595f"
      },
      "outputs": [],
      "source": [
        ""
      ]
    },
    {
      "cell_type": "markdown",
      "id": "e5737276",
      "metadata": {
        "id": "e5737276"
      },
      "source": [
        "#### Exercise: Can you have an array of strings? Can you mix different data types in the same array? Can you operate (add, sub, mult) arrays with different data types? (★★★)"
      ]
    },
    {
      "cell_type": "code",
      "execution_count": 9,
      "id": "68c333b0",
      "metadata": {
        "id": "68c333b0"
      },
      "outputs": [],
      "source": [
        ""
      ]
    }
  ],
  "metadata": {
    "kernelspec": {
      "display_name": "Python 3",
      "language": "python",
      "name": "python3"
    },
    "language_info": {
      "codemirror_mode": {
        "name": "ipython",
        "version": 3
      },
      "file_extension": ".py",
      "mimetype": "text/x-python",
      "name": "python",
      "nbconvert_exporter": "python",
      "pygments_lexer": "ipython3",
      "version": "3.8.12"
    },
    "colab": {
      "name": "02.1-Intro-to-Numpy.ipynb",
      "provenance": []
    }
  },
  "nbformat": 4,
  "nbformat_minor": 5
}