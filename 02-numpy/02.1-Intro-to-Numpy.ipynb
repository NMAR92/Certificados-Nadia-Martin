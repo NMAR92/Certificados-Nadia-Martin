{
  "cells": [
    {
      "cell_type": "markdown",
      "id": "bdfbcacc",
      "metadata": {
        "id": "bdfbcacc"
      },
      "source": [
        "<img src=\"https://github.com/4GeeksAcademy/machine-learning-prework/blob/main/02-numpy/assets/numpy_logo.png?raw=1\" alt=\"logo\" width=\"400\"/>\n",
        "\n",
        "## Introduction to numpy\n",
        "\n",
        "NumPy stands for 'Numerical Python'. It is an open-source Python library used to perform various mathematical and scientific tasks. It contains multi-dimensional arrays and matrixes, along with many high-level mathematical functions that operate on them. It contains among other things:\n",
        "\n",
        "→ a powerful N-dimensional array object.\n",
        "\n",
        "→ sophisticated (broadcasting) functions.\n",
        "\n",
        "→ tools for integrating C/C++ and Fortran code.\n",
        "\n",
        "→ useful linear algebra, Fourier transform, and random number capabilities."
      ]
    },
    {
      "cell_type": "markdown",
      "source": [
        ""
      ],
      "metadata": {
        "id": "I0omlPSCZmMy"
      },
      "id": "I0omlPSCZmMy"
    },
    {
      "cell_type": "markdown",
      "source": [
        ""
      ],
      "metadata": {
        "id": "heujOgFtZmhx"
      },
      "id": "heujOgFtZmhx"
    },
    {
      "cell_type": "markdown",
      "id": "85902746",
      "metadata": {
        "id": "85902746"
      },
      "source": [
        "## Installing NumPy\n",
        "When you want to work with numpy locally, you should run the following commands:\n",
        "\n",
        "You can install NumPy with:\\\n",
        "`pip install numpy`\\\n",
        "or\\\n",
        "`conda install numpy`\n",
        "\n",
        "In our case, 4Geeks have prepared all the environment in order that you can work comfortably."
      ]
    },
    {
      "cell_type": "markdown",
      "id": "58765356",
      "metadata": {
        "id": "58765356"
      },
      "source": [
        "## Why should we use NumPy?\n",
        "\n",
        "Numpy is a library that performs numerical calculations in python. We will use it mainly because it allows us to create, modify matrixes, and do operations on them with ease.\n",
        "\n",
        "NumPy is like Pandas, Matplotlib or Scikit-Learn. It is one of the packages that you cannot miss when you are studying Machine Learning. Mainly because this library provides a matrix data structure that has some benefits over regular Python lists. Some of these benefits are: being more compact, quicker access to reading and writing articles, more convenient and efficient.\n",
        "\n",
        "For example, we will see later in the bootcamp that working with images is dealing with three-dimensional matrixes as large as 3840 x 2160, which means we will have 3×3840×2160 = 24883200 entries!!! 😱😱😱.\n",
        "\n",
        "Working with matrixes of that magnitude is practically impossible to carry out with lists and dictionaries if one wants to have an efficient and fast programming."
      ]
    },
    {
      "cell_type": "markdown",
      "id": "c4e52ee5",
      "metadata": {
        "id": "c4e52ee5"
      },
      "source": [
        "#### Exercise: Import the numpy package under the name `np` (★☆☆)\n",
        "\n",
        "`numpy` is commonly imported as `np` so we highly recommend to put this alias."
      ]
    },
    {
      "cell_type": "code",
      "execution_count": null,
      "id": "ea3038d9",
      "metadata": {
        "id": "ea3038d9"
      },
      "outputs": [],
      "source": [
        "import numpy as np"
      ]
    },
    {
      "cell_type": "markdown",
      "id": "40631cd6",
      "metadata": {
        "id": "40631cd6"
      },
      "source": [
        "## What is an array and why it is important for Machine Learning?\n",
        "\n",
        "An array is a data structure consisting of a collection of elements (values or variables), each identified by at least one index or key.\n"
      ]
    },
    {
      "cell_type": "markdown",
      "id": "ce969254",
      "metadata": {
        "id": "ce969254"
      },
      "source": [
        "![alt text](assets/1D.png \"1D\")"
      ]
    },
    {
      "cell_type": "markdown",
      "id": "735d02e2",
      "metadata": {
        "id": "735d02e2"
      },
      "source": [
        "An array is known as the central data structure of the Numpy library; it can also be of several dimensions. For example, neural networks sometimes deal with 4D arrays.\n",
        "\n",
        "Later on, we are also going to use another kind of arrays called: Tensors."
      ]
    },
    {
      "cell_type": "markdown",
      "id": "a20ce3a4",
      "metadata": {
        "id": "a20ce3a4"
      },
      "source": [
        "![alt text](./assets/3D.png \"3D\")"
      ]
    },
    {
      "cell_type": "markdown",
      "id": "46950f4f",
      "metadata": {
        "id": "46950f4f"
      },
      "source": [
        "#### Exercise: Print the version and configuration of numpy (★☆☆)\n",
        "\n",
        "You can print the version of any package of Python using `name_of_package.__version__`"
      ]
    },
    {
      "cell_type": "code",
      "execution_count": null,
      "id": "2a9f5838",
      "metadata": {
        "id": "2a9f5838",
        "outputId": "775cb61f-3ca6-4ff9-8e8b-1c028942e151"
      },
      "outputs": [
        {
          "name": "stdout",
          "output_type": "stream",
          "text": [
            "1.21.3\n"
          ]
        }
      ],
      "source": [
        "import numpy as np\n",
        "print(np.__version__)"
      ]
    },
    {
      "cell_type": "markdown",
      "id": "e3c20b3d",
      "metadata": {
        "id": "e3c20b3d"
      },
      "source": [
        "#### Exercise: Create a null vector of size 10 (★☆☆)\n",
        "\n",
        "A `null vector` is an array of zeros (`0`), also called `initialization vector`.\n",
        "\n",
        ">Check de function `np.zeros` (https://numpy.org/doc/stable/reference/generated/numpy.zeros.html)"
      ]
    },
    {
      "cell_type": "code",
      "execution_count": null,
      "id": "8a758bcf",
      "metadata": {
        "id": "8a758bcf",
        "outputId": "abaee853-1153-44c0-a3d0-f58af7846425"
      },
      "outputs": [
        {
          "data": {
            "text/plain": [
              "array([], dtype=float64)"
            ]
          },
          "execution_count": 9,
          "metadata": {},
          "output_type": "execute_result"
        }
      ],
      "source": [
        "np.zeros(0)"
      ]
    },
    {
      "cell_type": "markdown",
      "id": "6cbe7954",
      "metadata": {
        "id": "6cbe7954"
      },
      "source": [
        "#### Exercise: Create a vector of ones with size 10 (★☆☆)\n",
        "\n",
        ">Check de function `np.ones` (https://numpy.org/doc/stable/reference/generated/numpy.ones.html)"
      ]
    },
    {
      "cell_type": "code",
      "execution_count": null,
      "id": "86477874",
      "metadata": {
        "id": "86477874",
        "outputId": "a834460d-927e-48ea-9269-ee3ffa092ba7"
      },
      "outputs": [
        {
          "data": {
            "text/plain": [
              "array([1., 1., 1., 1., 1., 1., 1., 1., 1., 1.])"
            ]
          },
          "execution_count": 10,
          "metadata": {},
          "output_type": "execute_result"
        }
      ],
      "source": [
        "np.ones(10)"
      ]
    },
    {
      "cell_type": "markdown",
      "id": "0a708990",
      "metadata": {
        "id": "0a708990"
      },
      "source": [
        "#### Exercise: Create an 1D array with a specific start value, end value, and number of values (★☆☆)\n",
        "\n",
        ">Check the function `np.linspace` (https://numpy.org/doc/stable/reference/generated/numpy.linspace.html)"
      ]
    },
    {
      "cell_type": "code",
      "execution_count": null,
      "id": "477e01f4",
      "metadata": {
        "id": "477e01f4",
        "outputId": "d9dbff4b-acf0-4826-a021-91b3d0ce6146"
      },
      "outputs": [
        {
          "data": {
            "text/plain": [
              "array([1.        , 1.11111111, 1.22222222, 1.33333333, 1.44444444,\n",
              "       1.55555556, 1.66666667, 1.77777778, 1.88888889, 2.        ])"
            ]
          },
          "execution_count": 11,
          "metadata": {},
          "output_type": "execute_result"
        }
      ],
      "source": [
        "np.linspace(1,2,10)"
      ]
    },
    {
      "cell_type": "markdown",
      "id": "782d4c77",
      "metadata": {
        "id": "782d4c77"
      },
      "source": [
        "#### Run: Create a vector (1D array) with random integers from 10 to 49 and dimension 1x35 (★☆☆)\n",
        "\n",
        "When `dimension` is expressed `1x35` it means: One dimension array with 35 items (length=35).\n",
        "\n",
        ">Check the function `np.random` which allows you to create random arrays (https://numpy.org/doc/1.16/reference/routines.random.html)"
      ]
    },
    {
      "cell_type": "code",
      "execution_count": 7,
      "id": "5dbe1a08",
      "metadata": {
        "colab": {
          "base_uri": "https://localhost:8080/"
        },
        "id": "5dbe1a08",
        "outputId": "e370d7b3-62d3-4af8-92e6-8c6c68febe6c"
      },
      "outputs": [
        {
          "output_type": "stream",
          "name": "stdout",
          "text": [
            "[0.38594301 0.64031795 0.83707126 0.73205968 0.06798739 0.71747712\n",
            " 0.44385982 0.10279507 0.38987376 0.99427282]\n"
          ]
        }
      ],
      "source": [
        "import numpy as np\n",
        "\n",
        "## 10 random numbers between (0, 1)\n",
        "print(np.random.random(10)) "
      ]
    },
    {
      "cell_type": "code",
      "execution_count": 8,
      "id": "a9354456",
      "metadata": {
        "colab": {
          "base_uri": "https://localhost:8080/"
        },
        "id": "a9354456",
        "outputId": "3eef27f4-d12b-4bb9-e08f-5b8899d70fe1"
      },
      "outputs": [
        {
          "output_type": "stream",
          "name": "stdout",
          "text": [
            "[0.73652549 0.11893842 0.53053486 0.77015469 0.40654315 0.32925097\n",
            " 0.08885263 0.9977666  0.86350702 0.19018974]\n",
            "[ 0.77681385  0.90547889 -0.13112258  0.04123816 -0.4322505   0.48882641\n",
            "  0.31945336  0.40462334 -0.53359609 -0.86279604]\n"
          ]
        }
      ],
      "source": [
        "## Two ways to create numbers with normal distribution\n",
        "print(np.random.rand(10)) # 10 random values with distribution N(0,1)\n",
        "print(np.random.normal(loc = 0, scale = 1, size = 10)) # 10 random values with distribution N(0,1)"
      ]
    },
    {
      "cell_type": "code",
      "execution_count": 9,
      "id": "73ed6271",
      "metadata": {
        "colab": {
          "base_uri": "https://localhost:8080/"
        },
        "id": "73ed6271",
        "outputId": "552c69bb-c595-4b57-be17-18b27dc8e4f2"
      },
      "outputs": [
        {
          "output_type": "stream",
          "name": "stdout",
          "text": [
            "[-11.25763464   7.79005266   2.22047944  41.24902863  29.19842731\n",
            "   6.69302966  -7.59682931  16.7729069   72.90892732  22.68875839]\n"
          ]
        }
      ],
      "source": [
        "## Did you notice the difference between both functions? \n",
        "print(np.random.normal(loc = -5, scale = 33, size = 10)) # 10 random values with distribution N(-5,33)"
      ]
    },
    {
      "cell_type": "code",
      "execution_count": 10,
      "id": "49ae7a5a",
      "metadata": {
        "colab": {
          "base_uri": "https://localhost:8080/"
        },
        "id": "49ae7a5a",
        "outputId": "93dc7b43-131b-4858-93b9-20820b8378be"
      },
      "outputs": [
        {
          "output_type": "stream",
          "name": "stdout",
          "text": [
            "[ 72.97674568  91.48526875 -29.0300693   20.78971941  83.1399358\n",
            "  27.05183222  52.25337626  12.73012856  13.97174654  93.41266697]\n"
          ]
        }
      ],
      "source": [
        "## 10 random values with uniform distribution. That means, all values have the same probability\n",
        "print(np.random.uniform(-30,100,10)) # All values are between -30 and 100."
      ]
    },
    {
      "cell_type": "code",
      "execution_count": 11,
      "id": "f78e72cb",
      "metadata": {
        "colab": {
          "base_uri": "https://localhost:8080/"
        },
        "id": "f78e72cb",
        "outputId": "5fa8db93-5844-4cac-ebc3-2132bd495d93"
      },
      "outputs": [
        {
          "output_type": "stream",
          "name": "stdout",
          "text": [
            "[ 1  7 75 28 78 58 81 67 22 26]\n"
          ]
        }
      ],
      "source": [
        "# 10 integers values between 0 and 100.\n",
        "print(np.random.randint(0, 100, 10))"
      ]
    },
    {
      "cell_type": "code",
      "execution_count": 12,
      "id": "db278431",
      "metadata": {
        "colab": {
          "base_uri": "https://localhost:8080/"
        },
        "id": "db278431",
        "outputId": "2aecf2a1-be99-4404-dff7-6e857757c862"
      },
      "outputs": [
        {
          "output_type": "stream",
          "name": "stdout",
          "text": [
            "[3.75227237 1.51171417 2.37829243 4.61569928 2.22805194 2.58528485\n",
            " 6.16287177 6.62341727 3.2215087  5.92980883]\n"
          ]
        }
      ],
      "source": [
        "# 10 random values with Chi distribution with 5 degrees of freedom\n",
        "print(np.random.chisquare(5,10))"
      ]
    },
    {
      "cell_type": "markdown",
      "id": "1b7841da",
      "metadata": {
        "id": "1b7841da"
      },
      "source": [
        "The above examples are the most common distribution and random values you will learn throughout the bootcamp. Now, let's deal with those arrays."
      ]
    },
    {
      "cell_type": "markdown",
      "id": "48d48f01",
      "metadata": {
        "id": "48d48f01"
      },
      "source": [
        "#### Exercise: Reverse one of the last vector we created before (first element becomes last) (★☆☆)\n",
        "Try with `[::-1]`"
      ]
    },
    {
      "cell_type": "code",
      "execution_count": 20,
      "id": "3ed233e7",
      "metadata": {
        "colab": {
          "base_uri": "https://localhost:8080/"
        },
        "id": "3ed233e7",
        "outputId": "e52b4390-b64a-4f95-ee2f-268b7ef8735d"
      },
      "outputs": [
        {
          "output_type": "execute_result",
          "data": {
            "text/plain": [
              "array([2.        , 1.88888889, 1.77777778, 1.66666667, 1.55555556,\n",
              "       1.44444444, 1.33333333, 1.22222222, 1.11111111, 1.        ])"
            ]
          },
          "metadata": {},
          "execution_count": 20
        }
      ],
      "source": [
        "a= np.linspace(1,2,10)\n",
        "a\n",
        "res = a[::-1]\n",
        "res\n"
      ]
    },
    {
      "cell_type": "markdown",
      "id": "4fa39382",
      "metadata": {
        "id": "4fa39382"
      },
      "source": [
        "#### Exercise: Create a 5x5 identity matrix (★☆☆)\n",
        "\n",
        ">Check the function `np.eye`(https://numpy.org/devdocs/reference/generated/numpy.eye.html)"
      ]
    },
    {
      "cell_type": "code",
      "execution_count": 21,
      "id": "c97757ec",
      "metadata": {
        "colab": {
          "base_uri": "https://localhost:8080/"
        },
        "id": "c97757ec",
        "outputId": "a2e9b406-b37f-40d0-d2e8-a87b1e177aa1"
      },
      "outputs": [
        {
          "output_type": "execute_result",
          "data": {
            "text/plain": [
              "array([[1, 0, 0, 0, 0],\n",
              "       [0, 1, 0, 0, 0],\n",
              "       [0, 0, 1, 0, 0],\n",
              "       [0, 0, 0, 1, 0],\n",
              "       [0, 0, 0, 0, 1]])"
            ]
          },
          "metadata": {},
          "execution_count": 21
        }
      ],
      "source": [
        "a=np.eye(5, dtype=int)\n",
        "a\n"
      ]
    },
    {
      "cell_type": "markdown",
      "id": "da64551a",
      "metadata": {
        "id": "da64551a"
      },
      "source": [
        "#### Exercise: Find indexes of non-zero elements from [1,2,0,0,4,0] (★☆☆)\n",
        "\n",
        ">Check the function `where`(https://numpy.org/devdocs/reference/generated/numpy.where.html)"
      ]
    },
    {
      "cell_type": "code",
      "execution_count": 31,
      "id": "327f7adb",
      "metadata": {
        "colab": {
          "base_uri": "https://localhost:8080/"
        },
        "id": "327f7adb",
        "outputId": "673878b3-b0d4-40f5-a05f-dc2318d2e48d"
      },
      "outputs": [
        {
          "output_type": "stream",
          "name": "stdout",
          "text": [
            "(array([0, 1, 4]),)\n",
            "[0 1 4]\n"
          ]
        }
      ],
      "source": [
        "import numpy as np\n",
        "li = [1,2,0,0,4,0]\n",
        "arr = np.array(li)\n",
        "li_new = np.nonzero(arr)\n",
        "li_list = np.nonzero(arr)[0]\n",
        "print(li_new)\n",
        "print(li_list)"
      ]
    },
    {
      "cell_type": "markdown",
      "id": "13c5928c",
      "metadata": {
        "id": "13c5928c"
      },
      "source": [
        "#### Exercise: Create a 10x10 array with random values and find the minimum and maximum values (★☆☆)\n",
        "\n",
        ">Check the function `min` (https://numpy.org/devdocs/reference/generated/numpy.where.html) and `max` (https://numpy.org/devdocs/reference/generated/numpy.max.html)"
      ]
    },
    {
      "cell_type": "code",
      "execution_count": 32,
      "id": "911c9b93",
      "metadata": {
        "colab": {
          "base_uri": "https://localhost:8080/"
        },
        "id": "911c9b93",
        "outputId": "57718489-b766-4b51-b017-2d893dcc9382"
      },
      "outputs": [
        {
          "output_type": "stream",
          "name": "stdout",
          "text": [
            "Original Array:\n",
            "[[0.38563285 0.92015871 0.15172885 0.55366451 0.55261279 0.12531233\n",
            "  0.07143094 0.23591305 0.85194729 0.35517557]\n",
            " [0.38429127 0.76549136 0.78201793 0.60301944 0.4747095  0.31595291\n",
            "  0.93160153 0.43938938 0.13170027 0.08804872]\n",
            " [0.37728559 0.9860869  0.87534524 0.93858393 0.7864612  0.32250441\n",
            "  0.61746665 0.51726904 0.94451874 0.77057938]\n",
            " [0.64697799 0.89053939 0.56232366 0.12803439 0.21065492 0.00446655\n",
            "  0.78746757 0.8718488  0.59692584 0.75046057]\n",
            " [0.13720956 0.02512028 0.59606692 0.57239396 0.66454625 0.52720623\n",
            "  0.5198421  0.45773285 0.79198474 0.76029799]\n",
            " [0.90536338 0.59305816 0.10223661 0.65760401 0.56977057 0.11717749\n",
            "  0.87326707 0.36510002 0.73282976 0.09631921]\n",
            " [0.06222    0.29290484 0.91725947 0.27764376 0.17384134 0.70499681\n",
            "  0.01978265 0.66255579 0.82212796 0.38403073]\n",
            " [0.67082811 0.56061653 0.23775534 0.6408765  0.26178033 0.87824232\n",
            "  0.6819433  0.78798243 0.42257324 0.1848121 ]\n",
            " [0.63216269 0.01597181 0.38953189 0.56368523 0.64831112 0.09842631\n",
            "  0.118343   0.33575292 0.43774625 0.17877329]\n",
            " [0.38125732 0.85532543 0.86890253 0.86947422 0.74641158 0.03993004\n",
            "  0.65370437 0.99620321 0.91001902 0.64483792]]\n",
            "Minimum and Maximum Values:\n",
            "0.004466552474548857 0.9962032082128542\n"
          ]
        }
      ],
      "source": [
        "import numpy as np\n",
        "x = np.random.random((10,10))\n",
        "print(\"Original Array:\")\n",
        "print(x) \n",
        "xmin, xmax = x.min(), x.max()\n",
        "print(\"Minimum and Maximum Values:\")\n",
        "print(xmin, xmax)"
      ]
    },
    {
      "cell_type": "markdown",
      "id": "3fa2e461",
      "metadata": {
        "id": "3fa2e461"
      },
      "source": [
        "#### Exercise: Create a random vector of size 30 and find the mean value (★☆☆)"
      ]
    },
    {
      "cell_type": "code",
      "execution_count": 33,
      "id": "323eb38a",
      "metadata": {
        "colab": {
          "base_uri": "https://localhost:8080/"
        },
        "id": "323eb38a",
        "outputId": "21811c9b-39dd-4bed-acdd-0e81da65ee3e"
      },
      "outputs": [
        {
          "output_type": "stream",
          "name": "stdout",
          "text": [
            "Original array:\n",
            "[0.98723417 0.48645191 0.96889288 0.66478189 0.42520221 0.02898468\n",
            " 0.99785818 0.61975837 0.36982707 0.19876136]\n",
            "0.2\n"
          ]
        }
      ],
      "source": [
        "import numpy as np\n",
        "x = np.random.random(10)\n",
        "print(\"Original array:\")\n",
        "print(x)\n",
        "b=np.mean(a)\n",
        "print(b)"
      ]
    },
    {
      "cell_type": "markdown",
      "id": "961f074f",
      "metadata": {
        "id": "961f074f"
      },
      "source": [
        "#### Exercise: Define a function with your date of birth (yyyy/mm/dd) as imput, that returns a random array with the following dimensions: (★★☆)\n",
        "\n",
        "$$yyyy-1900 \\times |mm - dd|$$"
      ]
    },
    {
      "cell_type": "code",
      "execution_count": null,
      "id": "d3f49255",
      "metadata": {
        "id": "d3f49255"
      },
      "outputs": [],
      "source": [
        ""
      ]
    },
    {
      "cell_type": "markdown",
      "id": "ff8dbb92",
      "metadata": {
        "id": "ff8dbb92"
      },
      "source": [
        "## What is the difference between Python List and a Numpy Array?\n",
        "\n",
        "- Python list can contain elements with different data types, while Numpy Array‘s elements are always homogeneous (same data types).\n",
        "\n",
        "- Numpy arrays are faster and more compact than Python lists.\n",
        "\n",
        "## Why Numpy Arrays are faster than Lists?\n",
        "\n",
        "- Numpy Arrays use fixed memory to store data and less memory than Python lists.\n",
        "\n",
        "- Contiguous memory allocation in Numpy Arrays."
      ]
    },
    {
      "cell_type": "markdown",
      "id": "e3a7ba7f",
      "metadata": {
        "id": "e3a7ba7f"
      },
      "source": [
        "#### Exercise: Convert the list `my_list = [1, 2, 3]` to numpy array (★☆☆)"
      ]
    },
    {
      "cell_type": "code",
      "execution_count": 35,
      "id": "01d8e257",
      "metadata": {
        "colab": {
          "base_uri": "https://localhost:8080/"
        },
        "id": "01d8e257",
        "outputId": "b257b7ab-c239-4886-afc1-5f857343bbcd"
      },
      "outputs": [
        {
          "output_type": "stream",
          "name": "stdout",
          "text": [
            "[1 2 3]\n"
          ]
        }
      ],
      "source": [
        "\n",
        "my_list = [1, 2, 3]\n",
        "arr = np.array(my_list)\n",
        "print(arr)"
      ]
    },
    {
      "cell_type": "markdown",
      "id": "6d17ab5d",
      "metadata": {
        "id": "6d17ab5d"
      },
      "source": [
        "#### Exercise: Convert the tuple `my_list = (1, 2, 3)` to numpy array (★☆☆)"
      ]
    },
    {
      "cell_type": "code",
      "execution_count": 50,
      "id": "841373cd",
      "metadata": {
        "colab": {
          "base_uri": "https://localhost:8080/"
        },
        "id": "841373cd",
        "outputId": "ef156bb0-cb4f-4172-da0d-8c42724bbe2a"
      },
      "outputs": [
        {
          "output_type": "stream",
          "name": "stdout",
          "text": [
            "(1, 2, 3)\n",
            "<class 'tuple'>\n",
            "After converting Python tuple to array\n",
            "[1 2 3]\n",
            "<class 'numpy.ndarray'>\n"
          ]
        }
      ],
      "source": [
        "import numpy as np\n",
        "\n",
        "tup = (1, 2, 3)\n",
        "print(tup)\n",
        "print(type(tup))\n",
        "\n",
        "print(\"After converting Python tuple to array\")\n",
        "\n",
        "arr = np.asarray(tup)\n",
        "print(arr)\n",
        "print(type(arr))"
      ]
    },
    {
      "cell_type": "markdown",
      "id": "8837119b",
      "metadata": {
        "id": "8837119b"
      },
      "source": [
        "#### Exercise: Convert the list of tuples `my_list = [(1,2,3), (4,5)]` to numpy array (★☆☆)"
      ]
    },
    {
      "cell_type": "code",
      "execution_count": 55,
      "id": "2c0d16f1",
      "metadata": {
        "colab": {
          "base_uri": "https://localhost:8080/"
        },
        "id": "2c0d16f1",
        "outputId": "a2ff1d91-1d64-4cc5-fb21-f9e1c4aeca6b"
      },
      "outputs": [
        {
          "output_type": "stream",
          "name": "stdout",
          "text": [
            "[(1, 2, 3), (4, 5)]\n",
            "<class 'list'>\n",
            "After converting Python tuple to array\n",
            "[1 2 3]\n",
            "<class 'numpy.ndarray'>\n",
            "[4 5]\n",
            "<class 'numpy.ndarray'>\n"
          ]
        }
      ],
      "source": [
        "import numpy as np\n",
        "\n",
        "tup = [(1,2,3), (4,5)]\n",
        "print(tup)\n",
        "print(type(tup))\n",
        "\n",
        "print(\"After converting Python tuple to array\")\n",
        "\n",
        "for i in range(len(tup)):\n",
        "  arr = np.asarray(tup[i])\n",
        "  print(arr)\n",
        "  print(type(arr))"
      ]
    },
    {
      "cell_type": "markdown",
      "id": "ec788c9f",
      "metadata": {
        "id": "ec788c9f"
      },
      "source": [
        "#### Exercise: Resize a random array of dimensions 5x12 into 12x5 (★☆☆)\n",
        "\n",
        ">Check `reshape` from `numpy` (https://numpy.org/doc/stable/reference/generated/numpy.reshape.html)"
      ]
    },
    {
      "cell_type": "code",
      "execution_count": 39,
      "id": "0a4f919f",
      "metadata": {
        "colab": {
          "base_uri": "https://localhost:8080/"
        },
        "id": "0a4f919f",
        "outputId": "98c43575-b880-4dbf-86eb-bf98243827bc"
      },
      "outputs": [
        {
          "output_type": "stream",
          "name": "stdout",
          "text": [
            "Original Array:\n",
            "[[0.99334305 0.58346325 0.40500992 0.12667983 0.76173261 0.2001004\n",
            "  0.4271744  0.06659958 0.99867289 0.17100721 0.32504246 0.83939769]\n",
            " [0.77825464 0.56956551 0.57837145 0.65399012 0.79900566 0.20527136\n",
            "  0.02282999 0.98764049 0.00559234 0.86315085 0.68193324 0.84818875]\n",
            " [0.105872   0.0105259  0.6632645  0.63659657 0.24589543 0.4330015\n",
            "  0.15246437 0.81518799 0.90051072 0.94264454 0.71317296 0.59514961]\n",
            " [0.95551835 0.13561934 0.51838576 0.0153248  0.19622676 0.93734346\n",
            "  0.87310654 0.26552882 0.68633954 0.91276462 0.64260682 0.99868193]\n",
            " [0.87184735 0.43093429 0.53481123 0.01575272 0.40938372 0.3972402\n",
            "  0.1879487  0.34458433 0.74886743 0.27221683 0.61092734 0.17062769]]\n",
            "[[0.99334305 0.58346325 0.40500992 0.12667983 0.76173261]\n",
            " [0.2001004  0.4271744  0.06659958 0.99867289 0.17100721]\n",
            " [0.32504246 0.83939769 0.77825464 0.56956551 0.57837145]\n",
            " [0.65399012 0.79900566 0.20527136 0.02282999 0.98764049]\n",
            " [0.00559234 0.86315085 0.68193324 0.84818875 0.105872  ]\n",
            " [0.0105259  0.6632645  0.63659657 0.24589543 0.4330015 ]\n",
            " [0.15246437 0.81518799 0.90051072 0.94264454 0.71317296]\n",
            " [0.59514961 0.95551835 0.13561934 0.51838576 0.0153248 ]\n",
            " [0.19622676 0.93734346 0.87310654 0.26552882 0.68633954]\n",
            " [0.91276462 0.64260682 0.99868193 0.87184735 0.43093429]\n",
            " [0.53481123 0.01575272 0.40938372 0.3972402  0.1879487 ]\n",
            " [0.34458433 0.74886743 0.27221683 0.61092734 0.17062769]]\n"
          ]
        }
      ],
      "source": [
        "import numpy as np\n",
        "x = np.random.random((5,12))\n",
        "print(\"Original Array:\")\n",
        "print(x)\n",
        "\n",
        "y= np.reshape(x, (12, 5))\n",
        "print(y)"
      ]
    },
    {
      "cell_type": "markdown",
      "id": "391791e0",
      "metadata": {
        "id": "391791e0"
      },
      "source": [
        "#### Exercise: Create a function that normalize a 5x5 random matrix (★☆☆)\n",
        "\n",
        ">Remember from probability (https://en.wikipedia.org/wiki/Normalization_(statistics)) that :\n",
        "$$ x_{norm} = \\frac{x - \\bar{x}}{\\sigma}$$\n"
      ]
    },
    {
      "cell_type": "code",
      "execution_count": 40,
      "id": "f6533d39",
      "metadata": {
        "colab": {
          "base_uri": "https://localhost:8080/"
        },
        "id": "f6533d39",
        "outputId": "8dc06422-7661-45f2-bf6e-a2980dfcd30a"
      },
      "outputs": [
        {
          "output_type": "stream",
          "name": "stdout",
          "text": [
            "Original Array:\n",
            "[[0.61644361 0.49901237 0.02967096 0.11799495 0.53134422]\n",
            " [0.13577298 0.58090883 0.52086835 0.15759716 0.67789666]\n",
            " [0.98396612 0.07377195 0.69450338 0.27410938 0.92255279]\n",
            " [0.82804637 0.97216482 0.24942753 0.36334314 0.02255487]\n",
            " [0.1599127  0.37870806 0.60792957 0.91496999 0.76805969]]\n",
            "After normalization:\n",
            "[[0.61772601 0.49558136 0.00740171 0.09927082 0.52921094]\n",
            " [0.11776241 0.58076496 0.51831459 0.14046256 0.68164564]\n",
            " [1.         0.05327281 0.69891892 0.26165131 0.93612169]\n",
            " [0.837822   0.98772502 0.23597879 0.3544667  0.        ]\n",
            " [0.14287105 0.37044832 0.60887024 0.92823453 0.77542761]]\n"
          ]
        }
      ],
      "source": [
        "import numpy as np\n",
        "x= np.random.random((5,5))\n",
        "print(\"Original Array:\")\n",
        "print(x)\n",
        "xmax, xmin = x.max(), x.min()\n",
        "x = (x - xmin)/(xmax - xmin)\n",
        "print(\"After normalization:\")\n",
        "print(x)"
      ]
    },
    {
      "cell_type": "markdown",
      "id": "d2d143f1",
      "metadata": {
        "id": "d2d143f1"
      },
      "source": [
        "## Stacking numpy arrays\n",
        "\n",
        "Stacking is used to join a sequence of same dimension arrays along a new axis.\n",
        "\n",
        "`numpy.stack(arrays,axis)` : It returns a stacked array of the input arrays which has one more dimension than the input arrays.\n",
        "\n",
        "### You have two ways to do it:\n",
        "\n",
        "\n",
        "![alt text](./assets/stack.jpeg \"stack\")\n",
        "\n",
        "\n",
        "### or\n",
        "\n",
        "\n",
        "![alt text](./assets/stack2.jpeg \"stack\")\n",
        "\n",
        "\n"
      ]
    },
    {
      "cell_type": "markdown",
      "id": "1e74d39e",
      "metadata": {
        "id": "1e74d39e"
      },
      "source": [
        "#### Exercise: Generate two random arrays with integers and apply the stacking using `stack` (★★☆)"
      ]
    },
    {
      "cell_type": "code",
      "execution_count": 61,
      "id": "3f639d33",
      "metadata": {
        "colab": {
          "base_uri": "https://localhost:8080/"
        },
        "id": "3f639d33",
        "outputId": "085d0353-f087-45d4-b558-ddc30696438f"
      },
      "outputs": [
        {
          "output_type": "stream",
          "name": "stdout",
          "text": [
            "[7 9 3] [9 0 6]\n"
          ]
        }
      ],
      "source": [
        "\n"
      ]
    },
    {
      "cell_type": "markdown",
      "id": "78250c14",
      "metadata": {
        "id": "78250c14"
      },
      "source": [
        "#### Exercise: Generate two random arrays with integers and apply the stacking using `hstack` and `vstack` (★★☆)"
      ]
    },
    {
      "cell_type": "code",
      "execution_count": 40,
      "id": "9fe729cb",
      "metadata": {
        "id": "9fe729cb"
      },
      "outputs": [],
      "source": [
        ""
      ]
    },
    {
      "cell_type": "markdown",
      "id": "51898680",
      "metadata": {
        "id": "51898680"
      },
      "source": [
        "## Basic maths in numpy\n",
        "\n",
        "You can make typical math operations like:\n",
        "\n",
        "- Addition,Subtraction,Multiplication and Division between two arrays using numpy.\n",
        "- Operation on arrays using sum() & cumsum() function.\n",
        "- Minimum and Maximum value from an array.\n",
        "- Exponent/Power , Square Root and Cube Root functions.\n",
        "\n",
        "or even apply common trigonometric functions:\n",
        "\n",
        "- `numpy.sin()`:  Sine (x) Function\n",
        "- `numpy.cos()`: Cosine(x) Function\n",
        "- `numpy.tan()`: Tangent(x) Function\n",
        "- `numpy.sinh()`: Hyperbolic Sine (x) Function\n",
        "- `numpy.cosh()`: Hyperbolic Cosine(x) Function\n",
        "- `numpy.tanh()`: Hyperbolic Tangent(x) Function\n",
        "- `numpy.arcsin()`: Inverse Sine(x) Function\n",
        "- `numpy.arccos()`: Inverse Cosine(x) Function\n",
        "- `numpy.arctan()`: Inverse Tangent(X) Function\n",
        "- `numpy.pi`: Pi value π\n",
        "- `numpy.hypot(w,h)`: For calculating Hypotenuse $c = \\sqrt{(w^2 + h^2)}$\n",
        "- `numpy.rad2deg()`: Radians to degrees\n",
        "- `numpy.deg2rad()`: Degrees to radians"
      ]
    },
    {
      "cell_type": "markdown",
      "id": "89e78048",
      "metadata": {
        "id": "89e78048"
      },
      "source": [
        "i#### Exercise: Generate two random 8 - dimensional vectors and apply the most common operation between vectors:  addition, substraction, multiplication, division(★☆☆)\n",
        "\n",
        ">Check the math functions here: https://numpy.org/doc/stable/reference/routines.math.html"
      ]
    },
    {
      "cell_type": "code",
      "execution_count": 73,
      "id": "b62e9d1c",
      "metadata": {
        "colab": {
          "base_uri": "https://localhost:8080/"
        },
        "id": "b62e9d1c",
        "outputId": "a31a51f3-c199-4f11-97fe-ef9a0e6e9cc6"
      },
      "outputs": [
        {
          "output_type": "stream",
          "name": "stdout",
          "text": [
            "[80  0 43 26 15 37 21 99]\n",
            "[66 45 34 11 44  7 68 34]\n",
            "[146  45  77  37  59  44  89 133]\n",
            "[ 14 -45   9  15 -29  30 -47  65]\n",
            "12741\n",
            "12741\n",
            "[5280    0 1462  286  660  259 1428 3366]\n",
            "[1.21212121 0.         1.26470588 2.36363636 0.34090909 5.28571429\n",
            " 0.30882353 2.91176471]\n"
          ]
        }
      ],
      "source": [
        "import numpy as np\n",
        "x=np.random.randint(0, 100, 8)\n",
        "y=np.random.randint(0, 100, 8)\n",
        "print(x)\n",
        "print(y)\n",
        "print(np.add(x, y))\n",
        "print(np.subtract(x, y))\n",
        "print(np.matmul(x,y))\n",
        "print(np.dot(x,y))\n",
        "print(np.multiply(x,y))\n",
        "print(np.divide(x,y))\n",
        "\n",
        "\n"
      ]
    },
    {
      "cell_type": "markdown",
      "id": "ebd10810",
      "metadata": {
        "id": "ebd10810"
      },
      "source": [
        "#### Exercise: Generate two random matrices with dimensions between 5 and 10. For example, try 5x7 vs 8x9. Were you able to do the matrix multiplication? why? (★★☆) "
      ]
    },
    {
      "cell_type": "code",
      "execution_count": 40,
      "id": "6ada209f",
      "metadata": {
        "id": "6ada209f"
      },
      "outputs": [],
      "source": [
        "#importante que el numero de columnas de primera matriz sea igual filas de segunda matriz"
      ]
    },
    {
      "cell_type": "markdown",
      "id": "c0e940f8",
      "metadata": {
        "id": "c0e940f8"
      },
      "source": [
        "#### Exercise: Given 2 numpy arrays as matrices, output the result of multiplying the 2 matrices (as a numpy array) Were you able to do the matrix multiplication? (★★☆) \n",
        "\n",
        "$$ a = \\left(\\begin{matrix}\n",
        "0 & 1 & 2\\\\ \n",
        "3 & 4 & 5\\\\ \n",
        "6 & 7 & 8\n",
        "\\end{matrix}\\right)$$\n",
        "\n",
        "$$ b = \\left(\\begin{matrix}\n",
        "2 & 3 & 4\\\\ \n",
        "5 & 6 & 7\\\\ \n",
        "8 & 9 & 10\n",
        "\\end{matrix}\\right)$$\n",
        "\n",
        "\n"
      ]
    },
    {
      "cell_type": "code",
      "execution_count": 48,
      "id": "820dc7a5",
      "metadata": {
        "colab": {
          "base_uri": "https://localhost:8080/"
        },
        "id": "820dc7a5",
        "outputId": "9b9a29c6-5653-4712-ee5c-4b2e1c76a68e"
      },
      "outputs": [
        {
          "output_type": "stream",
          "name": "stdout",
          "text": [
            "[[ 21  24  27]\n",
            " [ 66  78  90]\n",
            " [111 132 153]]\n",
            "[[ 21  24  27]\n",
            " [ 66  78  90]\n",
            " [111 132 153]]\n",
            "[[ 0  3  8]\n",
            " [15 24 35]\n",
            " [48 63 80]]\n"
          ]
        }
      ],
      "source": [
        "import numpy as np\n",
        "a =np.array([[0,1,2],\n",
        "            [3,4,5],\n",
        "            [6,7,8]])\n",
        "b=np.array([[2,3,4],\n",
        "           [5,6,7],\n",
        "           [8,9,10]])\n",
        "\n",
        "print(np.matmul(a,b))#multiplicacion fila columna\n",
        "print(np.dot(a,b))\n",
        "print(np.multiply(a,b))#las mismas dimensiones exactas en toda la matriz para usar esta funcion\n",
        "\n"
      ]
    },
    {
      "cell_type": "markdown",
      "id": "22713c3f",
      "metadata": {
        "id": "22713c3f"
      },
      "source": [
        "#### Exercise: Multiply a 5x3 matrix by a 3x2 matrix (real matrix product) (★★☆)"
      ]
    },
    {
      "cell_type": "code",
      "execution_count": 49,
      "id": "a3e05c29",
      "metadata": {
        "colab": {
          "base_uri": "https://localhost:8080/"
        },
        "id": "a3e05c29",
        "outputId": "1e7d1fd7-4573-4ade-d374-0f7f64518370"
      },
      "outputs": [
        {
          "output_type": "stream",
          "name": "stdout",
          "text": [
            "[[0.82951633 0.61721747]\n",
            " [0.76474234 0.77587722]\n",
            " [0.86067882 0.70252146]\n",
            " [0.7824984  0.97448521]\n",
            " [1.13123602 1.10290995]]\n"
          ]
        }
      ],
      "source": [
        "import numpy as np\n",
        "x= np.random.random((5,3))\n",
        "y= np.random.random((3,2))\n",
        "\n",
        "print(np.dot(x,y))"
      ]
    },
    {
      "cell_type": "markdown",
      "id": "4815930e",
      "metadata": {
        "id": "4815930e"
      },
      "source": [
        "## Data types\n",
        "\n",
        "Do you think the following preposition is true?\n",
        "\n",
        "`8==8`\n",
        "\n",
        "Surely you will definetely say yes, which is true mathematically, but computationally it is not always the same, at least in terms of memory. For example, run the following cell:"
      ]
    },
    {
      "cell_type": "code",
      "execution_count": 74,
      "id": "cd81c3c6",
      "metadata": {
        "colab": {
          "base_uri": "https://localhost:8080/"
        },
        "id": "cd81c3c6",
        "outputId": "a4374ba2-dd8e-4537-b3ac-dfe1f6738a2e"
      },
      "outputs": [
        {
          "output_type": "stream",
          "name": "stdout",
          "text": [
            "int64: 96\n",
            "int8: 89\n",
            "float32: 92\n"
          ]
        }
      ],
      "source": [
        "import sys\n",
        "\n",
        "# int64\n",
        "x = np.array(123)\n",
        "print(\"int64: \" + str(sys.getsizeof(x)))\n",
        "\n",
        "# int8\n",
        "x = np.array(123,dtype=np.int8)\n",
        "print(\"int8: \" + str(sys.getsizeof(x)))\n",
        "\n",
        "# float32\n",
        "x = np.array(123,dtype=np.float32)\n",
        "print(\"float32: \" + str(sys.getsizeof(x)))"
      ]
    },
    {
      "cell_type": "markdown",
      "id": "8e34f294",
      "metadata": {
        "id": "8e34f294"
      },
      "source": [
        "#### It turns out that there are many computational representation of the same number and you can create arrays with different Data Types (dtypes) depending on what you need:\n",
        "\n",
        "- Boolean : `np.bool_`\n",
        "- Char : `np.byte`\n",
        "- Short : `np.short`\n",
        "- Integer : `np.short`\n",
        "- Long : `np.int_`\n",
        "- Float : `np.single`&np.float32`\n",
        "- Double :`np.double`&`np.float64`\n",
        "- `np.int8`: integer (-128 to 127)\n",
        "- `np.int16`:integer( -32768 to 32767)\n",
        "- `np.int32`: integer(-2147483648 to 2147483647)\n",
        "- `np.int64`:integer( -9223372036854775808 to 9223372036854775807)\n",
        "\n",
        "\n",
        "Sometimes, you will need to load, create or export arrays from different data types.\n"
      ]
    },
    {
      "cell_type": "code",
      "execution_count": 74,
      "id": "890bde78",
      "metadata": {
        "id": "890bde78"
      },
      "outputs": [],
      "source": [
        ""
      ]
    },
    {
      "cell_type": "markdown",
      "id": "f1ae2c2d",
      "metadata": {
        "id": "f1ae2c2d"
      },
      "source": [
        "## Harder exercises\n",
        "\n",
        "The next exercises are related with real situations you could face while you are working in data science and machine learning. Also, we will be frequently talking about matrices and bidimensional arrays."
      ]
    },
    {
      "cell_type": "markdown",
      "id": "759c9c8d",
      "metadata": {
        "id": "759c9c8d"
      },
      "source": [
        "#### Exercise: Subtract the mean of each row of a matrix (★★☆)"
      ]
    },
    {
      "cell_type": "code",
      "execution_count": null,
      "id": "6801c73d",
      "metadata": {
        "id": "6801c73d"
      },
      "outputs": [],
      "source": [
        ""
      ]
    },
    {
      "cell_type": "markdown",
      "id": "129c342d",
      "metadata": {
        "id": "129c342d"
      },
      "source": [
        "#### Exercise: How to get the dates of yesterday, today and tomorrow? (★★☆)\n",
        "\n",
        ">Check `np.datetime64`, `np.timedelta64` in numpy (https://numpy.org/doc/stable/reference/arrays.datetime.html)"
      ]
    },
    {
      "cell_type": "code",
      "execution_count": null,
      "id": "8ba1badb",
      "metadata": {
        "id": "8ba1badb"
      },
      "outputs": [],
      "source": [
        ""
      ]
    },
    {
      "cell_type": "markdown",
      "id": "42f8b2f9",
      "metadata": {
        "id": "42f8b2f9"
      },
      "source": [
        "#### Exercise: How to get all the dates corresponding to the month of December 2022? (★★☆)\n",
        "Combine `arange`with `datetime`\n"
      ]
    },
    {
      "cell_type": "code",
      "execution_count": null,
      "id": "eb8ebe45",
      "metadata": {
        "id": "eb8ebe45"
      },
      "outputs": [],
      "source": [
        ""
      ]
    },
    {
      "cell_type": "markdown",
      "id": "486df8ea",
      "metadata": {
        "id": "486df8ea"
      },
      "source": [
        "#### Exercise: Extract the integer part of a random array of positive numbers using 2 different methods (★★☆)"
      ]
    },
    {
      "cell_type": "code",
      "execution_count": null,
      "id": "34b4fa08",
      "metadata": {
        "id": "34b4fa08"
      },
      "outputs": [],
      "source": [
        ""
      ]
    },
    {
      "cell_type": "markdown",
      "id": "649e89f9",
      "metadata": {
        "id": "649e89f9"
      },
      "source": [
        "#### Exercise: Create a 5x5 matrix with row values ranging from 0 to 4 (★★☆)"
      ]
    },
    {
      "cell_type": "code",
      "execution_count": null,
      "id": "663cc611",
      "metadata": {
        "id": "663cc611"
      },
      "outputs": [],
      "source": [
        ""
      ]
    },
    {
      "cell_type": "markdown",
      "id": "3421e17f",
      "metadata": {
        "id": "3421e17f"
      },
      "source": [
        "#### Exercise: Consider a generator function that generates 10 integers and use it to build an array (★★☆)"
      ]
    },
    {
      "cell_type": "code",
      "execution_count": null,
      "id": "7336b8e4",
      "metadata": {
        "id": "7336b8e4"
      },
      "outputs": [],
      "source": [
        ""
      ]
    },
    {
      "cell_type": "markdown",
      "id": "483dd554",
      "metadata": {
        "id": "483dd554"
      },
      "source": [
        "#### Exercise: Create a vector of size 10 with values ranging from 0 to 1, both excluded (★★☆)"
      ]
    },
    {
      "cell_type": "code",
      "execution_count": null,
      "id": "c89b93e7",
      "metadata": {
        "id": "c89b93e7"
      },
      "outputs": [],
      "source": [
        ""
      ]
    },
    {
      "cell_type": "markdown",
      "id": "2d07be1c",
      "metadata": {
        "id": "2d07be1c"
      },
      "source": [
        "#### Exercise: Create a random vector of size 10 and sort it (★★☆)"
      ]
    },
    {
      "cell_type": "code",
      "execution_count": null,
      "id": "4f7cb3ad",
      "metadata": {
        "id": "4f7cb3ad"
      },
      "outputs": [],
      "source": [
        ""
      ]
    },
    {
      "cell_type": "markdown",
      "id": "fe043549",
      "metadata": {
        "id": "fe043549"
      },
      "source": [
        "#### Exercise: Consider two random arrays A and B, check if they are equal (★★☆)"
      ]
    },
    {
      "cell_type": "code",
      "execution_count": null,
      "id": "3326a686",
      "metadata": {
        "id": "3326a686"
      },
      "outputs": [],
      "source": [
        ""
      ]
    },
    {
      "cell_type": "markdown",
      "id": "2002cb03",
      "metadata": {
        "id": "2002cb03"
      },
      "source": [
        "#### Exercise: Consider a random 10x2 matrix representing cartesian coordinates, convert them to polar coordinates (★★★)\n",
        ">Suggestion: check how to calculate the \"square of a matrix\""
      ]
    },
    {
      "cell_type": "code",
      "execution_count": null,
      "id": "58be72bc",
      "metadata": {
        "id": "58be72bc"
      },
      "outputs": [],
      "source": [
        ""
      ]
    },
    {
      "cell_type": "markdown",
      "id": "b7109c9f",
      "metadata": {
        "id": "b7109c9f"
      },
      "source": [
        "#### Exercise: Create random vector of size 10 and replace the maximum value by 0 (★★☆)"
      ]
    },
    {
      "cell_type": "code",
      "execution_count": null,
      "id": "f79e79a7",
      "metadata": {
        "id": "f79e79a7"
      },
      "outputs": [],
      "source": [
        ""
      ]
    },
    {
      "cell_type": "markdown",
      "id": "fb24674c",
      "metadata": {
        "id": "fb24674c"
      },
      "source": [
        "#### Exercise: How to print all the values of an array? (★★☆)"
      ]
    },
    {
      "cell_type": "code",
      "execution_count": null,
      "id": "c81f1456",
      "metadata": {
        "id": "c81f1456"
      },
      "outputs": [],
      "source": [
        ""
      ]
    },
    {
      "cell_type": "markdown",
      "id": "48413134",
      "metadata": {
        "id": "48413134"
      },
      "source": [
        "#### Exercise: How to convert a float (32 bits) array into an integer (32 bits) in place?\n",
        ">Check: https://stackoverflow.com/a/4396247/5989906"
      ]
    },
    {
      "cell_type": "code",
      "execution_count": null,
      "id": "5db64b6d",
      "metadata": {
        "id": "5db64b6d"
      },
      "outputs": [],
      "source": [
        ""
      ]
    },
    {
      "cell_type": "markdown",
      "id": "215b6acc",
      "metadata": {
        "id": "215b6acc"
      },
      "source": [
        "#### Exercise: Subtract the mean of each row of a matrix (★★☆)"
      ]
    },
    {
      "cell_type": "code",
      "execution_count": null,
      "id": "dd1adef4",
      "metadata": {
        "id": "dd1adef4"
      },
      "outputs": [],
      "source": [
        ""
      ]
    },
    {
      "cell_type": "markdown",
      "id": "c0cf37e0",
      "metadata": {
        "id": "c0cf37e0"
      },
      "source": [
        "#### Exercise: How to sort an array by the nth column? (★★☆)"
      ]
    },
    {
      "cell_type": "code",
      "execution_count": null,
      "id": "9336ca5f",
      "metadata": {
        "id": "9336ca5f"
      },
      "outputs": [],
      "source": [
        ""
      ]
    },
    {
      "cell_type": "markdown",
      "id": "c17fb213",
      "metadata": {
        "id": "c17fb213"
      },
      "source": [
        "#### Exercise: Find the position of the minimum of a 2D matrix (★★☆)"
      ]
    },
    {
      "cell_type": "code",
      "execution_count": null,
      "id": "7fdda78d",
      "metadata": {
        "id": "7fdda78d"
      },
      "outputs": [],
      "source": [
        ""
      ]
    },
    {
      "cell_type": "markdown",
      "id": "f4427f7f",
      "metadata": {
        "id": "f4427f7f"
      },
      "source": [
        "#### Exercise: Read an image using openCV, check its dimensions, normalize the numbers and show the image (★★★)\n",
        "\n",
        ">Check: https://www.geeksforgeeks.org/python-opencv-cv2-imread-method/"
      ]
    },
    {
      "cell_type": "code",
      "execution_count": null,
      "id": "fe253212",
      "metadata": {
        "id": "fe253212"
      },
      "outputs": [],
      "source": [
        ""
      ]
    },
    {
      "cell_type": "markdown",
      "id": "33c986d9",
      "metadata": {
        "id": "33c986d9"
      },
      "source": [
        "#### Exercise: Considering a four dimensions array, how to get the sum over the last two axis at once? (★★★)"
      ]
    },
    {
      "cell_type": "code",
      "execution_count": null,
      "id": "a99a50e2",
      "metadata": {
        "id": "a99a50e2"
      },
      "outputs": [],
      "source": [
        ""
      ]
    },
    {
      "cell_type": "markdown",
      "id": "928a1a15",
      "metadata": {
        "id": "928a1a15"
      },
      "source": [
        "#### Exercise: How to get the diagonal of a dot product? (★★★)"
      ]
    },
    {
      "cell_type": "code",
      "execution_count": null,
      "id": "ef2c9ddd",
      "metadata": {
        "id": "ef2c9ddd"
      },
      "outputs": [],
      "source": [
        ""
      ]
    },
    {
      "cell_type": "markdown",
      "id": "f62551d8",
      "metadata": {
        "id": "f62551d8"
      },
      "source": [
        "#### Exercise: Consider an array of dimension (5,5,3), how to mulitply it by an array with dimensions (5,5)? (★★★)"
      ]
    },
    {
      "cell_type": "code",
      "execution_count": null,
      "id": "9ab241b7",
      "metadata": {
        "id": "9ab241b7"
      },
      "outputs": [],
      "source": [
        ""
      ]
    },
    {
      "cell_type": "markdown",
      "id": "6896e326",
      "metadata": {
        "id": "6896e326"
      },
      "source": [
        "#### Exercise: How to swap two rows of an array? (★★★)"
      ]
    },
    {
      "cell_type": "code",
      "execution_count": null,
      "id": "9e8fcba9",
      "metadata": {
        "id": "9e8fcba9"
      },
      "outputs": [],
      "source": [
        ""
      ]
    },
    {
      "cell_type": "markdown",
      "id": "8e83df46",
      "metadata": {
        "id": "8e83df46"
      },
      "source": [
        "#### Exercise: Read an image using openCV and tranpose it. What did you get exactly? Was the image rotated? Moved? Reflected with respect to an axis? (★★★)"
      ]
    },
    {
      "cell_type": "code",
      "execution_count": null,
      "id": "f73127b7",
      "metadata": {
        "id": "f73127b7"
      },
      "outputs": [],
      "source": [
        ""
      ]
    },
    {
      "cell_type": "markdown",
      "id": "781fa236",
      "metadata": {
        "id": "781fa236"
      },
      "source": [
        "#### Exercise: Consider an array Z = [1,2,3,4,5,6,7,8,9,10,11,12,13,14], how to generate an array R = [[1,2,3,4], [2,3,4,5], [3,4,5,6], ..., [11,12,13,14]]? (★★★)"
      ]
    },
    {
      "cell_type": "code",
      "execution_count": null,
      "id": "8e84d3c2",
      "metadata": {
        "id": "8e84d3c2"
      },
      "outputs": [],
      "source": [
        ""
      ]
    },
    {
      "cell_type": "markdown",
      "id": "7d8dc135",
      "metadata": {
        "id": "7d8dc135"
      },
      "source": [
        "#### Exercise: How to find the most frequent value in an array? (★★★)"
      ]
    },
    {
      "cell_type": "code",
      "execution_count": null,
      "id": "3978a7a2",
      "metadata": {
        "id": "3978a7a2"
      },
      "outputs": [],
      "source": [
        ""
      ]
    },
    {
      "cell_type": "markdown",
      "id": "4c70397b",
      "metadata": {
        "id": "4c70397b"
      },
      "source": [
        "#### Exercise: How to get the n largest values of an array (★★★)"
      ]
    },
    {
      "cell_type": "code",
      "execution_count": null,
      "id": "16371718",
      "metadata": {
        "id": "16371718"
      },
      "outputs": [],
      "source": [
        ""
      ]
    },
    {
      "cell_type": "markdown",
      "id": "d94352b6",
      "metadata": {
        "id": "d94352b6"
      },
      "source": [
        "#### Exercise: Consider a large vector Z, compute Z to the power of 3 using 3 different methods (★★★)"
      ]
    },
    {
      "cell_type": "code",
      "execution_count": null,
      "id": "301ba8a8",
      "metadata": {
        "id": "301ba8a8"
      },
      "outputs": [],
      "source": [
        ""
      ]
    },
    {
      "cell_type": "markdown",
      "id": "2784c996",
      "metadata": {
        "id": "2784c996"
      },
      "source": [
        "#### Exercise: Given a two dimensional array, how to extract unique rows? (★★★)"
      ]
    },
    {
      "cell_type": "code",
      "execution_count": null,
      "id": "f030595f",
      "metadata": {
        "id": "f030595f"
      },
      "outputs": [],
      "source": [
        ""
      ]
    },
    {
      "cell_type": "markdown",
      "id": "e5737276",
      "metadata": {
        "id": "e5737276"
      },
      "source": [
        "#### Exercise: Can you have an array of strings? Can you mix different data types in the same array? Can you operate (add, sub, mult) arrays with different data types? (★★★)"
      ]
    },
    {
      "cell_type": "code",
      "execution_count": null,
      "id": "68c333b0",
      "metadata": {
        "id": "68c333b0"
      },
      "outputs": [],
      "source": [
        ""
      ]
    }
  ],
  "metadata": {
    "kernelspec": {
      "display_name": "Python 3",
      "language": "python",
      "name": "python3"
    },
    "language_info": {
      "codemirror_mode": {
        "name": "ipython",
        "version": 3
      },
      "file_extension": ".py",
      "mimetype": "text/x-python",
      "name": "python",
      "nbconvert_exporter": "python",
      "pygments_lexer": "ipython3",
      "version": "3.8.12"
    },
    "colab": {
      "name": "02.1-Intro-to-Numpy.ipynb",
      "provenance": []
    }
  },
  "nbformat": 4,
  "nbformat_minor": 5
}